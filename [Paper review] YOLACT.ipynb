{
 "cells": [
  {
   "cell_type": "markdown",
   "metadata": {},
   "source": [
    "# YOLACT"
   ]
  },
  {
   "cell_type": "markdown",
   "metadata": {},
   "source": [
    "Real-time Instance Segmentation"
   ]
  },
  {
   "cell_type": "markdown",
   "metadata": {},
   "source": [
    "paper(2019.04) https://arxiv.org/abs/1904.02689<br>\n",
    "github https://github.com/dbolya/yolact"
   ]
  },
  {
   "cell_type": "markdown",
   "metadata": {},
   "source": [
    "# Abstract"
   ]
  },
  {
   "cell_type": "markdown",
   "metadata": {},
   "source": [
    "해당 모델은 MSCOCO dataset 기준으로 29.8mAP, 33.5 fps의 성능을 보였고, 이는 GPU 1대만 가지고 training 한 결과라고 언급한다. 통상적으로 1초에 30fps 정도의 성능을 real-time 이라고 칭한다고 알고 있기 때문에, 해당 모델은 결과를 통해 real-time을 입증한다.<br>\n",
    "<br>\n",
    "**\"We accomplish this by breaking instance segmentation into two parallel substacks.\"**<br>\n",
    "해당 모델은 instance segmentation을 두 개의 병렬 구조의 업무로 나누어 이를 달성한다. 이 두 개의 업무가 무엇인지를 중점적으로 볼 필요가 있다. 업무는 다음과 같다.<br>\n",
    "(1) generating a set of prototype masks<br>\n",
    "(2) predicting per-instance mask coefficients<br>\n",
    "<br>\n",
    "**\"We find that because this process doesn't depend on repooling, this approach produces very high-quality masks and exhibits temporal stability for free.\"**<br>\n",
    "특히 해당 모델은 repooling 에 의존하지 않는 프로세스 때문에 성능이 좋아졌다고 언급한다. repooling 이 무엇인지는 논문을 좀 더 읽거나 검색함으로써 이해할 필요성을 느낀다."
   ]
  },
  {
   "cell_type": "markdown",
   "metadata": {},
   "source": [
    "# Introduction"
   ]
  },
  {
   "cell_type": "markdown",
   "metadata": {},
   "source": [
    "<img src=\"image/YOLACT01.png\" width=\"100%\">"
   ]
  },
  {
   "cell_type": "markdown",
   "metadata": {},
   "source": [
    "**\"In this work, our goal is to fill that gap with\n",
    "a fast, one-stage instance segmentation model in the same\n",
    "way that SSD and YOLO fill that gap for object detection.\"**<br>\n",
    "Object Detection 분야에는 크게 R-CNN 계열의 모델과 YOLO 계열의 모델이 존재한다. 이렇게 나눈 이유는 모델의 작동방식 때문이다. R-CNN 계열의 모델은 two-stage 방식으로써 정확도는 높지만 속도가 느리다는 단점이 있다. 이와는 반대로 YOLO 계열의 모델은 one-stage 방식으로써 속도가 빠르지만 정확도가 낮다는 단점이 있다. 나의 부족한 소견을 언급하자면, 획기적인 아이디어나 컴퓨팅 성능이 더 발전한다면 이후의 YOLO 계열의 모델이 SOTA 가 되지 않을까 생각한다. 저자 또한 이를 언급하고 있는데, one-stage 모델을 바탕으로 성능이 좋고 속도도 빠른 Instance Segmentation 모델을 만드는 것을 목표로 하고 있다.<br>\n",
    "<br>\n",
    "**\"State-of-the-art two-stage instance segmentation methods depend heavily on feature localization to produce masks. That is, these methods 'repool' features in some bounding box region(e.g., via RoI-pool/align), and then feed these now localized features to their mask predictor.\"**<br>\n",
    "먼저 현재 instance segmentation 분야의 two-stage SOTA 모델의 문제점을 지적한다. Mask R-CNN"
   ]
  },
  {
   "cell_type": "markdown",
   "metadata": {},
   "source": [
    "# Reference"
   ]
  },
  {
   "cell_type": "markdown",
   "metadata": {},
   "source": [
    "YOLACT\n",
    "* https://arxiv.org/abs/1904.0268\n",
    "\n",
    "(논문리뷰&재구현) YOLACT 설명 및 정리 - (1)\n",
    "* https://ganghee-lee.tistory.com/42\n",
    "\n",
    "(논문리뷰&재구현) YOLACT 설명 및 정리 - (2)\n",
    "* https://ganghee-lee.tistory.com/45\n",
    "\n",
    "(논문리뷰&재구현) YOLACT 설명 및 정리 - (3)\n",
    "* https://ganghee-lee.tistory.com/46\n",
    "\n",
    "(논문리뷰&재구현) YOLACT 설명 및 정리 - (4)\n",
    "* https://ganghee-lee.tistory.com/48"
   ]
  }
 ],
 "metadata": {
  "kernelspec": {
   "display_name": "Python 3",
   "language": "python",
   "name": "python3"
  },
  "language_info": {
   "codemirror_mode": {
    "name": "ipython",
    "version": 3
   },
   "file_extension": ".py",
   "mimetype": "text/x-python",
   "name": "python",
   "nbconvert_exporter": "python",
   "pygments_lexer": "ipython3",
   "version": "3.7.3"
  }
 },
 "nbformat": 4,
 "nbformat_minor": 2
}
