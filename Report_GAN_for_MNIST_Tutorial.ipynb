{
  "nbformat": 4,
  "nbformat_minor": 0,
  "metadata": {
    "colab": {
      "name": "Report_GAN for MNIST Tutorial.ipynb",
      "provenance": [],
      "collapsed_sections": [],
      "machine_shape": "hm",
      "authorship_tag": "ABX9TyOJ0i3uAH5ZX5PGOJD1aqI5"
    },
    "kernelspec": {
      "name": "python3",
      "display_name": "Python 3"
    },
    "accelerator": "GPU",
    "widgets": {
      "application/vnd.jupyter.widget-state+json": {
        "48f7c160e85049bc98efca75ba3fce9a": {
          "model_module": "@jupyter-widgets/controls",
          "model_name": "HBoxModel",
          "state": {
            "_view_name": "HBoxView",
            "_dom_classes": [],
            "_model_name": "HBoxModel",
            "_view_module": "@jupyter-widgets/controls",
            "_model_module_version": "1.5.0",
            "_view_count": null,
            "_view_module_version": "1.5.0",
            "box_style": "",
            "layout": "IPY_MODEL_923a8867ead24b4686569d8adc1255a7",
            "_model_module": "@jupyter-widgets/controls",
            "children": [
              "IPY_MODEL_fa1c9693fee54b33bf53379e21202a67",
              "IPY_MODEL_fdd90c6bc65d410f8ad4a031648cf4f7"
            ]
          }
        },
        "923a8867ead24b4686569d8adc1255a7": {
          "model_module": "@jupyter-widgets/base",
          "model_name": "LayoutModel",
          "state": {
            "_view_name": "LayoutView",
            "grid_template_rows": null,
            "right": null,
            "justify_content": null,
            "_view_module": "@jupyter-widgets/base",
            "overflow": null,
            "_model_module_version": "1.2.0",
            "_view_count": null,
            "flex_flow": null,
            "width": null,
            "min_width": null,
            "border": null,
            "align_items": null,
            "bottom": null,
            "_model_module": "@jupyter-widgets/base",
            "top": null,
            "grid_column": null,
            "overflow_y": null,
            "overflow_x": null,
            "grid_auto_flow": null,
            "grid_area": null,
            "grid_template_columns": null,
            "flex": null,
            "_model_name": "LayoutModel",
            "justify_items": null,
            "grid_row": null,
            "max_height": null,
            "align_content": null,
            "visibility": null,
            "align_self": null,
            "height": null,
            "min_height": null,
            "padding": null,
            "grid_auto_rows": null,
            "grid_gap": null,
            "max_width": null,
            "order": null,
            "_view_module_version": "1.2.0",
            "grid_template_areas": null,
            "object_position": null,
            "object_fit": null,
            "grid_auto_columns": null,
            "margin": null,
            "display": null,
            "left": null
          }
        },
        "fa1c9693fee54b33bf53379e21202a67": {
          "model_module": "@jupyter-widgets/controls",
          "model_name": "FloatProgressModel",
          "state": {
            "_view_name": "ProgressView",
            "style": "IPY_MODEL_2a9223ee00e2443bb7b2eaabf1130dac",
            "_dom_classes": [],
            "description": "",
            "_model_name": "FloatProgressModel",
            "bar_style": "info",
            "max": 1,
            "_view_module": "@jupyter-widgets/controls",
            "_model_module_version": "1.5.0",
            "value": 1,
            "_view_count": null,
            "_view_module_version": "1.5.0",
            "orientation": "horizontal",
            "min": 0,
            "description_tooltip": null,
            "_model_module": "@jupyter-widgets/controls",
            "layout": "IPY_MODEL_6a309559d14e4ca6aa351531038450fe"
          }
        },
        "fdd90c6bc65d410f8ad4a031648cf4f7": {
          "model_module": "@jupyter-widgets/controls",
          "model_name": "HTMLModel",
          "state": {
            "_view_name": "HTMLView",
            "style": "IPY_MODEL_1fd6dcee4ca04bfa9ab0d53dcd73281e",
            "_dom_classes": [],
            "description": "",
            "_model_name": "HTMLModel",
            "placeholder": "​",
            "_view_module": "@jupyter-widgets/controls",
            "_model_module_version": "1.5.0",
            "value": " 9920512/? [00:20&lt;00:00, 806525.52it/s]",
            "_view_count": null,
            "_view_module_version": "1.5.0",
            "description_tooltip": null,
            "_model_module": "@jupyter-widgets/controls",
            "layout": "IPY_MODEL_599093b4f6dc42f2ba02dedf2e476055"
          }
        },
        "2a9223ee00e2443bb7b2eaabf1130dac": {
          "model_module": "@jupyter-widgets/controls",
          "model_name": "ProgressStyleModel",
          "state": {
            "_view_name": "StyleView",
            "_model_name": "ProgressStyleModel",
            "description_width": "initial",
            "_view_module": "@jupyter-widgets/base",
            "_model_module_version": "1.5.0",
            "_view_count": null,
            "_view_module_version": "1.2.0",
            "bar_color": null,
            "_model_module": "@jupyter-widgets/controls"
          }
        },
        "6a309559d14e4ca6aa351531038450fe": {
          "model_module": "@jupyter-widgets/base",
          "model_name": "LayoutModel",
          "state": {
            "_view_name": "LayoutView",
            "grid_template_rows": null,
            "right": null,
            "justify_content": null,
            "_view_module": "@jupyter-widgets/base",
            "overflow": null,
            "_model_module_version": "1.2.0",
            "_view_count": null,
            "flex_flow": null,
            "width": null,
            "min_width": null,
            "border": null,
            "align_items": null,
            "bottom": null,
            "_model_module": "@jupyter-widgets/base",
            "top": null,
            "grid_column": null,
            "overflow_y": null,
            "overflow_x": null,
            "grid_auto_flow": null,
            "grid_area": null,
            "grid_template_columns": null,
            "flex": null,
            "_model_name": "LayoutModel",
            "justify_items": null,
            "grid_row": null,
            "max_height": null,
            "align_content": null,
            "visibility": null,
            "align_self": null,
            "height": null,
            "min_height": null,
            "padding": null,
            "grid_auto_rows": null,
            "grid_gap": null,
            "max_width": null,
            "order": null,
            "_view_module_version": "1.2.0",
            "grid_template_areas": null,
            "object_position": null,
            "object_fit": null,
            "grid_auto_columns": null,
            "margin": null,
            "display": null,
            "left": null
          }
        },
        "1fd6dcee4ca04bfa9ab0d53dcd73281e": {
          "model_module": "@jupyter-widgets/controls",
          "model_name": "DescriptionStyleModel",
          "state": {
            "_view_name": "StyleView",
            "_model_name": "DescriptionStyleModel",
            "description_width": "",
            "_view_module": "@jupyter-widgets/base",
            "_model_module_version": "1.5.0",
            "_view_count": null,
            "_view_module_version": "1.2.0",
            "_model_module": "@jupyter-widgets/controls"
          }
        },
        "599093b4f6dc42f2ba02dedf2e476055": {
          "model_module": "@jupyter-widgets/base",
          "model_name": "LayoutModel",
          "state": {
            "_view_name": "LayoutView",
            "grid_template_rows": null,
            "right": null,
            "justify_content": null,
            "_view_module": "@jupyter-widgets/base",
            "overflow": null,
            "_model_module_version": "1.2.0",
            "_view_count": null,
            "flex_flow": null,
            "width": null,
            "min_width": null,
            "border": null,
            "align_items": null,
            "bottom": null,
            "_model_module": "@jupyter-widgets/base",
            "top": null,
            "grid_column": null,
            "overflow_y": null,
            "overflow_x": null,
            "grid_auto_flow": null,
            "grid_area": null,
            "grid_template_columns": null,
            "flex": null,
            "_model_name": "LayoutModel",
            "justify_items": null,
            "grid_row": null,
            "max_height": null,
            "align_content": null,
            "visibility": null,
            "align_self": null,
            "height": null,
            "min_height": null,
            "padding": null,
            "grid_auto_rows": null,
            "grid_gap": null,
            "max_width": null,
            "order": null,
            "_view_module_version": "1.2.0",
            "grid_template_areas": null,
            "object_position": null,
            "object_fit": null,
            "grid_auto_columns": null,
            "margin": null,
            "display": null,
            "left": null
          }
        },
        "2f017df7a4ed47069d60ae86ae5f6c6e": {
          "model_module": "@jupyter-widgets/controls",
          "model_name": "HBoxModel",
          "state": {
            "_view_name": "HBoxView",
            "_dom_classes": [],
            "_model_name": "HBoxModel",
            "_view_module": "@jupyter-widgets/controls",
            "_model_module_version": "1.5.0",
            "_view_count": null,
            "_view_module_version": "1.5.0",
            "box_style": "",
            "layout": "IPY_MODEL_72d0177b6ac845de890d5f36b7fdb1d5",
            "_model_module": "@jupyter-widgets/controls",
            "children": [
              "IPY_MODEL_742e22158c47482cb5282f1b6670f819",
              "IPY_MODEL_215ab32af213460b9cc501900124c7b7"
            ]
          }
        },
        "72d0177b6ac845de890d5f36b7fdb1d5": {
          "model_module": "@jupyter-widgets/base",
          "model_name": "LayoutModel",
          "state": {
            "_view_name": "LayoutView",
            "grid_template_rows": null,
            "right": null,
            "justify_content": null,
            "_view_module": "@jupyter-widgets/base",
            "overflow": null,
            "_model_module_version": "1.2.0",
            "_view_count": null,
            "flex_flow": null,
            "width": null,
            "min_width": null,
            "border": null,
            "align_items": null,
            "bottom": null,
            "_model_module": "@jupyter-widgets/base",
            "top": null,
            "grid_column": null,
            "overflow_y": null,
            "overflow_x": null,
            "grid_auto_flow": null,
            "grid_area": null,
            "grid_template_columns": null,
            "flex": null,
            "_model_name": "LayoutModel",
            "justify_items": null,
            "grid_row": null,
            "max_height": null,
            "align_content": null,
            "visibility": null,
            "align_self": null,
            "height": null,
            "min_height": null,
            "padding": null,
            "grid_auto_rows": null,
            "grid_gap": null,
            "max_width": null,
            "order": null,
            "_view_module_version": "1.2.0",
            "grid_template_areas": null,
            "object_position": null,
            "object_fit": null,
            "grid_auto_columns": null,
            "margin": null,
            "display": null,
            "left": null
          }
        },
        "742e22158c47482cb5282f1b6670f819": {
          "model_module": "@jupyter-widgets/controls",
          "model_name": "FloatProgressModel",
          "state": {
            "_view_name": "ProgressView",
            "style": "IPY_MODEL_b1b159a71de84668b18d969ab72b23d8",
            "_dom_classes": [],
            "description": "",
            "_model_name": "FloatProgressModel",
            "bar_style": "success",
            "max": 1,
            "_view_module": "@jupyter-widgets/controls",
            "_model_module_version": "1.5.0",
            "value": 1,
            "_view_count": null,
            "_view_module_version": "1.5.0",
            "orientation": "horizontal",
            "min": 0,
            "description_tooltip": null,
            "_model_module": "@jupyter-widgets/controls",
            "layout": "IPY_MODEL_7300c7ef77d4471d8b4428c814fc471f"
          }
        },
        "215ab32af213460b9cc501900124c7b7": {
          "model_module": "@jupyter-widgets/controls",
          "model_name": "HTMLModel",
          "state": {
            "_view_name": "HTMLView",
            "style": "IPY_MODEL_3a68bee2546c4a628237788888348b1d",
            "_dom_classes": [],
            "description": "",
            "_model_name": "HTMLModel",
            "placeholder": "​",
            "_view_module": "@jupyter-widgets/controls",
            "_model_module_version": "1.5.0",
            "value": " 32768/? [00:01&lt;00:00, 22079.95it/s]",
            "_view_count": null,
            "_view_module_version": "1.5.0",
            "description_tooltip": null,
            "_model_module": "@jupyter-widgets/controls",
            "layout": "IPY_MODEL_b5ab4b55113d4bdfad187418e722a92e"
          }
        },
        "b1b159a71de84668b18d969ab72b23d8": {
          "model_module": "@jupyter-widgets/controls",
          "model_name": "ProgressStyleModel",
          "state": {
            "_view_name": "StyleView",
            "_model_name": "ProgressStyleModel",
            "description_width": "initial",
            "_view_module": "@jupyter-widgets/base",
            "_model_module_version": "1.5.0",
            "_view_count": null,
            "_view_module_version": "1.2.0",
            "bar_color": null,
            "_model_module": "@jupyter-widgets/controls"
          }
        },
        "7300c7ef77d4471d8b4428c814fc471f": {
          "model_module": "@jupyter-widgets/base",
          "model_name": "LayoutModel",
          "state": {
            "_view_name": "LayoutView",
            "grid_template_rows": null,
            "right": null,
            "justify_content": null,
            "_view_module": "@jupyter-widgets/base",
            "overflow": null,
            "_model_module_version": "1.2.0",
            "_view_count": null,
            "flex_flow": null,
            "width": null,
            "min_width": null,
            "border": null,
            "align_items": null,
            "bottom": null,
            "_model_module": "@jupyter-widgets/base",
            "top": null,
            "grid_column": null,
            "overflow_y": null,
            "overflow_x": null,
            "grid_auto_flow": null,
            "grid_area": null,
            "grid_template_columns": null,
            "flex": null,
            "_model_name": "LayoutModel",
            "justify_items": null,
            "grid_row": null,
            "max_height": null,
            "align_content": null,
            "visibility": null,
            "align_self": null,
            "height": null,
            "min_height": null,
            "padding": null,
            "grid_auto_rows": null,
            "grid_gap": null,
            "max_width": null,
            "order": null,
            "_view_module_version": "1.2.0",
            "grid_template_areas": null,
            "object_position": null,
            "object_fit": null,
            "grid_auto_columns": null,
            "margin": null,
            "display": null,
            "left": null
          }
        },
        "3a68bee2546c4a628237788888348b1d": {
          "model_module": "@jupyter-widgets/controls",
          "model_name": "DescriptionStyleModel",
          "state": {
            "_view_name": "StyleView",
            "_model_name": "DescriptionStyleModel",
            "description_width": "",
            "_view_module": "@jupyter-widgets/base",
            "_model_module_version": "1.5.0",
            "_view_count": null,
            "_view_module_version": "1.2.0",
            "_model_module": "@jupyter-widgets/controls"
          }
        },
        "b5ab4b55113d4bdfad187418e722a92e": {
          "model_module": "@jupyter-widgets/base",
          "model_name": "LayoutModel",
          "state": {
            "_view_name": "LayoutView",
            "grid_template_rows": null,
            "right": null,
            "justify_content": null,
            "_view_module": "@jupyter-widgets/base",
            "overflow": null,
            "_model_module_version": "1.2.0",
            "_view_count": null,
            "flex_flow": null,
            "width": null,
            "min_width": null,
            "border": null,
            "align_items": null,
            "bottom": null,
            "_model_module": "@jupyter-widgets/base",
            "top": null,
            "grid_column": null,
            "overflow_y": null,
            "overflow_x": null,
            "grid_auto_flow": null,
            "grid_area": null,
            "grid_template_columns": null,
            "flex": null,
            "_model_name": "LayoutModel",
            "justify_items": null,
            "grid_row": null,
            "max_height": null,
            "align_content": null,
            "visibility": null,
            "align_self": null,
            "height": null,
            "min_height": null,
            "padding": null,
            "grid_auto_rows": null,
            "grid_gap": null,
            "max_width": null,
            "order": null,
            "_view_module_version": "1.2.0",
            "grid_template_areas": null,
            "object_position": null,
            "object_fit": null,
            "grid_auto_columns": null,
            "margin": null,
            "display": null,
            "left": null
          }
        },
        "af646d1c66b74dd19161224528c4e845": {
          "model_module": "@jupyter-widgets/controls",
          "model_name": "HBoxModel",
          "state": {
            "_view_name": "HBoxView",
            "_dom_classes": [],
            "_model_name": "HBoxModel",
            "_view_module": "@jupyter-widgets/controls",
            "_model_module_version": "1.5.0",
            "_view_count": null,
            "_view_module_version": "1.5.0",
            "box_style": "",
            "layout": "IPY_MODEL_bb99efa317f7448a8120e0d4fcb10199",
            "_model_module": "@jupyter-widgets/controls",
            "children": [
              "IPY_MODEL_eac12c10f9f3477d9e8c367e538c3fa9",
              "IPY_MODEL_ff589b870dbd4645801c30149c6f1b67"
            ]
          }
        },
        "bb99efa317f7448a8120e0d4fcb10199": {
          "model_module": "@jupyter-widgets/base",
          "model_name": "LayoutModel",
          "state": {
            "_view_name": "LayoutView",
            "grid_template_rows": null,
            "right": null,
            "justify_content": null,
            "_view_module": "@jupyter-widgets/base",
            "overflow": null,
            "_model_module_version": "1.2.0",
            "_view_count": null,
            "flex_flow": null,
            "width": null,
            "min_width": null,
            "border": null,
            "align_items": null,
            "bottom": null,
            "_model_module": "@jupyter-widgets/base",
            "top": null,
            "grid_column": null,
            "overflow_y": null,
            "overflow_x": null,
            "grid_auto_flow": null,
            "grid_area": null,
            "grid_template_columns": null,
            "flex": null,
            "_model_name": "LayoutModel",
            "justify_items": null,
            "grid_row": null,
            "max_height": null,
            "align_content": null,
            "visibility": null,
            "align_self": null,
            "height": null,
            "min_height": null,
            "padding": null,
            "grid_auto_rows": null,
            "grid_gap": null,
            "max_width": null,
            "order": null,
            "_view_module_version": "1.2.0",
            "grid_template_areas": null,
            "object_position": null,
            "object_fit": null,
            "grid_auto_columns": null,
            "margin": null,
            "display": null,
            "left": null
          }
        },
        "eac12c10f9f3477d9e8c367e538c3fa9": {
          "model_module": "@jupyter-widgets/controls",
          "model_name": "FloatProgressModel",
          "state": {
            "_view_name": "ProgressView",
            "style": "IPY_MODEL_61bf999981f145119bd54993d200a2e0",
            "_dom_classes": [],
            "description": "",
            "_model_name": "FloatProgressModel",
            "bar_style": "success",
            "max": 1,
            "_view_module": "@jupyter-widgets/controls",
            "_model_module_version": "1.5.0",
            "value": 1,
            "_view_count": null,
            "_view_module_version": "1.5.0",
            "orientation": "horizontal",
            "min": 0,
            "description_tooltip": null,
            "_model_module": "@jupyter-widgets/controls",
            "layout": "IPY_MODEL_8eb3a029c2a641608ff6cfd7bb2ced7e"
          }
        },
        "ff589b870dbd4645801c30149c6f1b67": {
          "model_module": "@jupyter-widgets/controls",
          "model_name": "HTMLModel",
          "state": {
            "_view_name": "HTMLView",
            "style": "IPY_MODEL_0a6df1d85a094f1e85b0799c28ac8638",
            "_dom_classes": [],
            "description": "",
            "_model_name": "HTMLModel",
            "placeholder": "​",
            "_view_module": "@jupyter-widgets/controls",
            "_model_module_version": "1.5.0",
            "value": " 1654784/? [00:01&lt;00:00, 1369144.49it/s]",
            "_view_count": null,
            "_view_module_version": "1.5.0",
            "description_tooltip": null,
            "_model_module": "@jupyter-widgets/controls",
            "layout": "IPY_MODEL_eeb494db7de94a1fba3a5f2ebb7a2afe"
          }
        },
        "61bf999981f145119bd54993d200a2e0": {
          "model_module": "@jupyter-widgets/controls",
          "model_name": "ProgressStyleModel",
          "state": {
            "_view_name": "StyleView",
            "_model_name": "ProgressStyleModel",
            "description_width": "initial",
            "_view_module": "@jupyter-widgets/base",
            "_model_module_version": "1.5.0",
            "_view_count": null,
            "_view_module_version": "1.2.0",
            "bar_color": null,
            "_model_module": "@jupyter-widgets/controls"
          }
        },
        "8eb3a029c2a641608ff6cfd7bb2ced7e": {
          "model_module": "@jupyter-widgets/base",
          "model_name": "LayoutModel",
          "state": {
            "_view_name": "LayoutView",
            "grid_template_rows": null,
            "right": null,
            "justify_content": null,
            "_view_module": "@jupyter-widgets/base",
            "overflow": null,
            "_model_module_version": "1.2.0",
            "_view_count": null,
            "flex_flow": null,
            "width": null,
            "min_width": null,
            "border": null,
            "align_items": null,
            "bottom": null,
            "_model_module": "@jupyter-widgets/base",
            "top": null,
            "grid_column": null,
            "overflow_y": null,
            "overflow_x": null,
            "grid_auto_flow": null,
            "grid_area": null,
            "grid_template_columns": null,
            "flex": null,
            "_model_name": "LayoutModel",
            "justify_items": null,
            "grid_row": null,
            "max_height": null,
            "align_content": null,
            "visibility": null,
            "align_self": null,
            "height": null,
            "min_height": null,
            "padding": null,
            "grid_auto_rows": null,
            "grid_gap": null,
            "max_width": null,
            "order": null,
            "_view_module_version": "1.2.0",
            "grid_template_areas": null,
            "object_position": null,
            "object_fit": null,
            "grid_auto_columns": null,
            "margin": null,
            "display": null,
            "left": null
          }
        },
        "0a6df1d85a094f1e85b0799c28ac8638": {
          "model_module": "@jupyter-widgets/controls",
          "model_name": "DescriptionStyleModel",
          "state": {
            "_view_name": "StyleView",
            "_model_name": "DescriptionStyleModel",
            "description_width": "",
            "_view_module": "@jupyter-widgets/base",
            "_model_module_version": "1.5.0",
            "_view_count": null,
            "_view_module_version": "1.2.0",
            "_model_module": "@jupyter-widgets/controls"
          }
        },
        "eeb494db7de94a1fba3a5f2ebb7a2afe": {
          "model_module": "@jupyter-widgets/base",
          "model_name": "LayoutModel",
          "state": {
            "_view_name": "LayoutView",
            "grid_template_rows": null,
            "right": null,
            "justify_content": null,
            "_view_module": "@jupyter-widgets/base",
            "overflow": null,
            "_model_module_version": "1.2.0",
            "_view_count": null,
            "flex_flow": null,
            "width": null,
            "min_width": null,
            "border": null,
            "align_items": null,
            "bottom": null,
            "_model_module": "@jupyter-widgets/base",
            "top": null,
            "grid_column": null,
            "overflow_y": null,
            "overflow_x": null,
            "grid_auto_flow": null,
            "grid_area": null,
            "grid_template_columns": null,
            "flex": null,
            "_model_name": "LayoutModel",
            "justify_items": null,
            "grid_row": null,
            "max_height": null,
            "align_content": null,
            "visibility": null,
            "align_self": null,
            "height": null,
            "min_height": null,
            "padding": null,
            "grid_auto_rows": null,
            "grid_gap": null,
            "max_width": null,
            "order": null,
            "_view_module_version": "1.2.0",
            "grid_template_areas": null,
            "object_position": null,
            "object_fit": null,
            "grid_auto_columns": null,
            "margin": null,
            "display": null,
            "left": null
          }
        },
        "0a4fef7ff39b43fc8f2839d36f62c7a1": {
          "model_module": "@jupyter-widgets/controls",
          "model_name": "HBoxModel",
          "state": {
            "_view_name": "HBoxView",
            "_dom_classes": [],
            "_model_name": "HBoxModel",
            "_view_module": "@jupyter-widgets/controls",
            "_model_module_version": "1.5.0",
            "_view_count": null,
            "_view_module_version": "1.5.0",
            "box_style": "",
            "layout": "IPY_MODEL_a287d1da7c85445c84615e2c0df1a393",
            "_model_module": "@jupyter-widgets/controls",
            "children": [
              "IPY_MODEL_b185d945cfbb4550b1f3630d361b3f31",
              "IPY_MODEL_34b87895d1ab40f8ac102be5bce0135a"
            ]
          }
        },
        "a287d1da7c85445c84615e2c0df1a393": {
          "model_module": "@jupyter-widgets/base",
          "model_name": "LayoutModel",
          "state": {
            "_view_name": "LayoutView",
            "grid_template_rows": null,
            "right": null,
            "justify_content": null,
            "_view_module": "@jupyter-widgets/base",
            "overflow": null,
            "_model_module_version": "1.2.0",
            "_view_count": null,
            "flex_flow": null,
            "width": null,
            "min_width": null,
            "border": null,
            "align_items": null,
            "bottom": null,
            "_model_module": "@jupyter-widgets/base",
            "top": null,
            "grid_column": null,
            "overflow_y": null,
            "overflow_x": null,
            "grid_auto_flow": null,
            "grid_area": null,
            "grid_template_columns": null,
            "flex": null,
            "_model_name": "LayoutModel",
            "justify_items": null,
            "grid_row": null,
            "max_height": null,
            "align_content": null,
            "visibility": null,
            "align_self": null,
            "height": null,
            "min_height": null,
            "padding": null,
            "grid_auto_rows": null,
            "grid_gap": null,
            "max_width": null,
            "order": null,
            "_view_module_version": "1.2.0",
            "grid_template_areas": null,
            "object_position": null,
            "object_fit": null,
            "grid_auto_columns": null,
            "margin": null,
            "display": null,
            "left": null
          }
        },
        "b185d945cfbb4550b1f3630d361b3f31": {
          "model_module": "@jupyter-widgets/controls",
          "model_name": "FloatProgressModel",
          "state": {
            "_view_name": "ProgressView",
            "style": "IPY_MODEL_c460ae6efce140ae8bcfdbc027b94750",
            "_dom_classes": [],
            "description": "",
            "_model_name": "FloatProgressModel",
            "bar_style": "success",
            "max": 1,
            "_view_module": "@jupyter-widgets/controls",
            "_model_module_version": "1.5.0",
            "value": 1,
            "_view_count": null,
            "_view_module_version": "1.5.0",
            "orientation": "horizontal",
            "min": 0,
            "description_tooltip": null,
            "_model_module": "@jupyter-widgets/controls",
            "layout": "IPY_MODEL_920017d5f7824cc6861c737f22bb29aa"
          }
        },
        "34b87895d1ab40f8ac102be5bce0135a": {
          "model_module": "@jupyter-widgets/controls",
          "model_name": "HTMLModel",
          "state": {
            "_view_name": "HTMLView",
            "style": "IPY_MODEL_e6fe954acb96420eb6b96556c116296a",
            "_dom_classes": [],
            "description": "",
            "_model_name": "HTMLModel",
            "placeholder": "​",
            "_view_module": "@jupyter-widgets/controls",
            "_model_module_version": "1.5.0",
            "value": " 8192/? [00:00&lt;00:00, 18267.12it/s]",
            "_view_count": null,
            "_view_module_version": "1.5.0",
            "description_tooltip": null,
            "_model_module": "@jupyter-widgets/controls",
            "layout": "IPY_MODEL_77e5378898a941fab7a5950c3e2b8e42"
          }
        },
        "c460ae6efce140ae8bcfdbc027b94750": {
          "model_module": "@jupyter-widgets/controls",
          "model_name": "ProgressStyleModel",
          "state": {
            "_view_name": "StyleView",
            "_model_name": "ProgressStyleModel",
            "description_width": "initial",
            "_view_module": "@jupyter-widgets/base",
            "_model_module_version": "1.5.0",
            "_view_count": null,
            "_view_module_version": "1.2.0",
            "bar_color": null,
            "_model_module": "@jupyter-widgets/controls"
          }
        },
        "920017d5f7824cc6861c737f22bb29aa": {
          "model_module": "@jupyter-widgets/base",
          "model_name": "LayoutModel",
          "state": {
            "_view_name": "LayoutView",
            "grid_template_rows": null,
            "right": null,
            "justify_content": null,
            "_view_module": "@jupyter-widgets/base",
            "overflow": null,
            "_model_module_version": "1.2.0",
            "_view_count": null,
            "flex_flow": null,
            "width": null,
            "min_width": null,
            "border": null,
            "align_items": null,
            "bottom": null,
            "_model_module": "@jupyter-widgets/base",
            "top": null,
            "grid_column": null,
            "overflow_y": null,
            "overflow_x": null,
            "grid_auto_flow": null,
            "grid_area": null,
            "grid_template_columns": null,
            "flex": null,
            "_model_name": "LayoutModel",
            "justify_items": null,
            "grid_row": null,
            "max_height": null,
            "align_content": null,
            "visibility": null,
            "align_self": null,
            "height": null,
            "min_height": null,
            "padding": null,
            "grid_auto_rows": null,
            "grid_gap": null,
            "max_width": null,
            "order": null,
            "_view_module_version": "1.2.0",
            "grid_template_areas": null,
            "object_position": null,
            "object_fit": null,
            "grid_auto_columns": null,
            "margin": null,
            "display": null,
            "left": null
          }
        },
        "e6fe954acb96420eb6b96556c116296a": {
          "model_module": "@jupyter-widgets/controls",
          "model_name": "DescriptionStyleModel",
          "state": {
            "_view_name": "StyleView",
            "_model_name": "DescriptionStyleModel",
            "description_width": "",
            "_view_module": "@jupyter-widgets/base",
            "_model_module_version": "1.5.0",
            "_view_count": null,
            "_view_module_version": "1.2.0",
            "_model_module": "@jupyter-widgets/controls"
          }
        },
        "77e5378898a941fab7a5950c3e2b8e42": {
          "model_module": "@jupyter-widgets/base",
          "model_name": "LayoutModel",
          "state": {
            "_view_name": "LayoutView",
            "grid_template_rows": null,
            "right": null,
            "justify_content": null,
            "_view_module": "@jupyter-widgets/base",
            "overflow": null,
            "_model_module_version": "1.2.0",
            "_view_count": null,
            "flex_flow": null,
            "width": null,
            "min_width": null,
            "border": null,
            "align_items": null,
            "bottom": null,
            "_model_module": "@jupyter-widgets/base",
            "top": null,
            "grid_column": null,
            "overflow_y": null,
            "overflow_x": null,
            "grid_auto_flow": null,
            "grid_area": null,
            "grid_template_columns": null,
            "flex": null,
            "_model_name": "LayoutModel",
            "justify_items": null,
            "grid_row": null,
            "max_height": null,
            "align_content": null,
            "visibility": null,
            "align_self": null,
            "height": null,
            "min_height": null,
            "padding": null,
            "grid_auto_rows": null,
            "grid_gap": null,
            "max_width": null,
            "order": null,
            "_view_module_version": "1.2.0",
            "grid_template_areas": null,
            "object_position": null,
            "object_fit": null,
            "grid_auto_columns": null,
            "margin": null,
            "display": null,
            "left": null
          }
        }
      }
    }
  },
  "cells": [
    {
      "cell_type": "markdown",
      "metadata": {
        "id": "4HmEf36FriOm"
      },
      "source": [
        "# GAN for MNIST Tutorial"
      ]
    },
    {
      "cell_type": "markdown",
      "metadata": {
        "id": "ilJCdG8wrtTh"
      },
      "source": [
        "* Reference) ndb796/Deep-Learning-Paper-Review-and-Pratice [[link]](https://github.com/ndb796/Deep-Learning-Paper-Review-and-Practice/blob/master/code_practices/GAN_for_MNIST_Tutorial.ipynb)\r\n",
        "* 논문 제목: Generative Adversarial Networks(NIPS 2014)\r\n",
        "* 가장 기본적인 GAN 모델을 학습해보는 실습을 진행합니다.\r\n",
        "* 학습 데이터셋: MNIST(1 x 28 x 28)"
      ]
    },
    {
      "cell_type": "markdown",
      "metadata": {
        "id": "PsyCBoozr1CR"
      },
      "source": [
        "---"
      ]
    },
    {
      "cell_type": "markdown",
      "metadata": {
        "id": "z1iG6GnLsPWK"
      },
      "source": [
        "# 필요한 라이브러리 불러오기"
      ]
    },
    {
      "cell_type": "markdown",
      "metadata": {
        "id": "IndBwzs8sRWc"
      },
      "source": [
        "* 실습을 위한 Pytorch 라이브러리 불러옵니다."
      ]
    },
    {
      "cell_type": "code",
      "metadata": {
        "id": "KPAvXHiSsWcz"
      },
      "source": [
        "import torch\r\n",
        "import torch.nn as nn\r\n",
        "from torchvision import datasets\r\n",
        "import torchvision.transforms as transforms\r\n",
        "from torchvision.utils import save_image"
      ],
      "execution_count": null,
      "outputs": []
    },
    {
      "cell_type": "markdown",
      "metadata": {
        "id": "4oWHcXrnshMK"
      },
      "source": [
        "# 생성자(Generator) 및 판별자(Discriminator) 모델 정의"
      ]
    },
    {
      "cell_type": "code",
      "metadata": {
        "id": "owEiPzbdsmws"
      },
      "source": [
        "# letent vector를 뽑기 위한 noise distribution(uniform, normal 등)의 dimension\r\n",
        "latent_dim = 100\r\n",
        "\r\n",
        "# 생성자(Generator) 클래스 정의\r\n",
        "class Generator(nn.Module):\r\n",
        "    def __init__(self):\r\n",
        "        super(Generator, self).__init__()\r\n",
        "\r\n",
        "        # 하나의 블록(block) 정의\r\n",
        "        def block(input_dim, output_dim, normalize=True):\r\n",
        "            layers = [nn.Linear(input_dim, output_dim)]\r\n",
        "            if normalize:\r\n",
        "                # 배치 정규(batch normalization) 수행(차원 동일)\r\n",
        "                layers.append(nn.BatchNorm1d(output_dim, 0.8))\r\n",
        "            layers.append(nn.LeakyReLU(0.2, inplace=True))  # inplace: input으로 들어온 값 자체를 수정\r\n",
        "            return layers\r\n",
        "\r\n",
        "        # 생성자 모델은 연속적인 여러 개의 블록을 가짐\r\n",
        "        self.model = nn.Sequential(\r\n",
        "            *block(latent_dim, 128, normalize=False),   # 리스트를 *args로 푸는 문법\r\n",
        "            *block(128, 256),\r\n",
        "            *block(256, 512),\r\n",
        "            *block(512, 1024),\r\n",
        "            nn.Linear(1024, 1 * 28 * 28),\r\n",
        "            nn.Tanh()   # -1부터 1 사이의 값\r\n",
        "        )\r\n",
        "\r\n",
        "    def forward(self, z):\r\n",
        "        img = self.model(z)\r\n",
        "        img = img.view(img.size(0), 1, 28, 28)\r\n",
        "        return img  # img.shape = (B, C, H, W)"
      ],
      "execution_count": null,
      "outputs": []
    },
    {
      "cell_type": "code",
      "metadata": {
        "id": "HJZQvHB1z9hz"
      },
      "source": [
        "# 판별자(Discriminator) 클래스 정의\r\n",
        "class Discriminator(nn.Module):\r\n",
        "    def __init__(self):\r\n",
        "        super(Discriminator, self).__init__()\r\n",
        "\r\n",
        "        self.model = nn.Sequential(\r\n",
        "            nn.Linear(1 * 28 * 28, 512),\r\n",
        "            nn.LeakyReLU(0.2, inplace=True),\r\n",
        "            nn.Linear(512, 256),\r\n",
        "            nn.LeakyReLU(0.2, inplace=True),\r\n",
        "            nn.Linear(256, 1),\r\n",
        "            nn.Sigmoid(),\r\n",
        "        )\r\n",
        "\r\n",
        "    # 이미지에 대한 판별 결과를 반환\r\n",
        "    def forward(self, img):\r\n",
        "        flattened = img.view(img.size(0), -1)\r\n",
        "        output = self.model(flattened)\r\n",
        "\r\n",
        "        return output   # output.shape = (1,)"
      ],
      "execution_count": null,
      "outputs": []
    },
    {
      "cell_type": "markdown",
      "metadata": {
        "id": "71T2hHYc0pYK"
      },
      "source": [
        "# 학습 데이터셋 불러오기"
      ]
    },
    {
      "cell_type": "markdown",
      "metadata": {
        "id": "_fGGJsqT0sdF"
      },
      "source": [
        "* 학습을 위해 MNIST 데이터셋을 불러옵니다."
      ]
    },
    {
      "cell_type": "code",
      "metadata": {
        "colab": {
          "base_uri": "https://localhost:8080/",
          "height": 376,
          "referenced_widgets": [
            "48f7c160e85049bc98efca75ba3fce9a",
            "923a8867ead24b4686569d8adc1255a7",
            "fa1c9693fee54b33bf53379e21202a67",
            "fdd90c6bc65d410f8ad4a031648cf4f7",
            "2a9223ee00e2443bb7b2eaabf1130dac",
            "6a309559d14e4ca6aa351531038450fe",
            "1fd6dcee4ca04bfa9ab0d53dcd73281e",
            "599093b4f6dc42f2ba02dedf2e476055",
            "2f017df7a4ed47069d60ae86ae5f6c6e",
            "72d0177b6ac845de890d5f36b7fdb1d5",
            "742e22158c47482cb5282f1b6670f819",
            "215ab32af213460b9cc501900124c7b7",
            "b1b159a71de84668b18d969ab72b23d8",
            "7300c7ef77d4471d8b4428c814fc471f",
            "3a68bee2546c4a628237788888348b1d",
            "b5ab4b55113d4bdfad187418e722a92e",
            "af646d1c66b74dd19161224528c4e845",
            "bb99efa317f7448a8120e0d4fcb10199",
            "eac12c10f9f3477d9e8c367e538c3fa9",
            "ff589b870dbd4645801c30149c6f1b67",
            "61bf999981f145119bd54993d200a2e0",
            "8eb3a029c2a641608ff6cfd7bb2ced7e",
            "0a6df1d85a094f1e85b0799c28ac8638",
            "eeb494db7de94a1fba3a5f2ebb7a2afe",
            "0a4fef7ff39b43fc8f2839d36f62c7a1",
            "a287d1da7c85445c84615e2c0df1a393",
            "b185d945cfbb4550b1f3630d361b3f31",
            "34b87895d1ab40f8ac102be5bce0135a",
            "c460ae6efce140ae8bcfdbc027b94750",
            "920017d5f7824cc6861c737f22bb29aa",
            "e6fe954acb96420eb6b96556c116296a",
            "77e5378898a941fab7a5950c3e2b8e42"
          ]
        },
        "id": "IaRQY8OV0u4j",
        "outputId": "4f30d6d2-2bb5-4d0d-cb6d-c2e68fcb0e0c"
      },
      "source": [
        "transforms_train = transforms.Compose([\r\n",
        "                                       transforms.Resize(28),\r\n",
        "                                       transforms.ToTensor(),\r\n",
        "                                       transforms.Normalize([0.5], [0.5])\r\n",
        "])\r\n",
        "\r\n",
        "train_dataset = datasets.MNIST(root='./dataset', train=True, download=True, transform=transforms_train)\r\n",
        "dataloader = torch.utils.data.DataLoader(train_dataset, batch_size=128, shuffle=True, num_workers=4)"
      ],
      "execution_count": null,
      "outputs": [
        {
          "output_type": "stream",
          "text": [
            "Downloading http://yann.lecun.com/exdb/mnist/train-images-idx3-ubyte.gz to ./dataset/MNIST/raw/train-images-idx3-ubyte.gz\n"
          ],
          "name": "stdout"
        },
        {
          "output_type": "display_data",
          "data": {
            "application/vnd.jupyter.widget-view+json": {
              "model_id": "48f7c160e85049bc98efca75ba3fce9a",
              "version_minor": 0,
              "version_major": 2
            },
            "text/plain": [
              "HBox(children=(FloatProgress(value=1.0, bar_style='info', max=1.0), HTML(value='')))"
            ]
          },
          "metadata": {
            "tags": []
          }
        },
        {
          "output_type": "stream",
          "text": [
            "Extracting ./dataset/MNIST/raw/train-images-idx3-ubyte.gz to ./dataset/MNIST/raw\n",
            "Downloading http://yann.lecun.com/exdb/mnist/train-labels-idx1-ubyte.gz to ./dataset/MNIST/raw/train-labels-idx1-ubyte.gz\n"
          ],
          "name": "stdout"
        },
        {
          "output_type": "display_data",
          "data": {
            "application/vnd.jupyter.widget-view+json": {
              "model_id": "2f017df7a4ed47069d60ae86ae5f6c6e",
              "version_minor": 0,
              "version_major": 2
            },
            "text/plain": [
              "HBox(children=(FloatProgress(value=1.0, bar_style='info', max=1.0), HTML(value='')))"
            ]
          },
          "metadata": {
            "tags": []
          }
        },
        {
          "output_type": "stream",
          "text": [
            "Extracting ./dataset/MNIST/raw/train-labels-idx1-ubyte.gz to ./dataset/MNIST/raw\n",
            "Downloading http://yann.lecun.com/exdb/mnist/t10k-images-idx3-ubyte.gz to ./dataset/MNIST/raw/t10k-images-idx3-ubyte.gz\n"
          ],
          "name": "stdout"
        },
        {
          "output_type": "display_data",
          "data": {
            "application/vnd.jupyter.widget-view+json": {
              "model_id": "af646d1c66b74dd19161224528c4e845",
              "version_minor": 0,
              "version_major": 2
            },
            "text/plain": [
              "HBox(children=(FloatProgress(value=1.0, bar_style='info', max=1.0), HTML(value='')))"
            ]
          },
          "metadata": {
            "tags": []
          }
        },
        {
          "output_type": "stream",
          "text": [
            "Extracting ./dataset/MNIST/raw/t10k-images-idx3-ubyte.gz to ./dataset/MNIST/raw\n",
            "Downloading http://yann.lecun.com/exdb/mnist/t10k-labels-idx1-ubyte.gz to ./dataset/MNIST/raw/t10k-labels-idx1-ubyte.gz\n"
          ],
          "name": "stdout"
        },
        {
          "output_type": "display_data",
          "data": {
            "application/vnd.jupyter.widget-view+json": {
              "model_id": "0a4fef7ff39b43fc8f2839d36f62c7a1",
              "version_minor": 0,
              "version_major": 2
            },
            "text/plain": [
              "HBox(children=(FloatProgress(value=1.0, bar_style='info', max=1.0), HTML(value='')))"
            ]
          },
          "metadata": {
            "tags": []
          }
        },
        {
          "output_type": "stream",
          "text": [
            "Extracting ./dataset/MNIST/raw/t10k-labels-idx1-ubyte.gz to ./dataset/MNIST/raw\n",
            "Processing...\n",
            "Done!\n"
          ],
          "name": "stdout"
        },
        {
          "output_type": "stream",
          "text": [
            "/usr/local/lib/python3.6/dist-packages/torchvision/datasets/mnist.py:480: UserWarning: The given NumPy array is not writeable, and PyTorch does not support non-writeable tensors. This means you can write to the underlying (supposedly non-writeable) NumPy array using the tensor. You may want to copy the array to protect its data or make it writeable before converting it to a tensor. This type of warning will be suppressed for the rest of this program. (Triggered internally at  /pytorch/torch/csrc/utils/tensor_numpy.cpp:141.)\n",
            "  return torch.from_numpy(parsed.astype(m[2], copy=False)).view(*s)\n"
          ],
          "name": "stderr"
        }
      ]
    },
    {
      "cell_type": "markdown",
      "metadata": {
        "id": "1OmNRRbh1Ify"
      },
      "source": [
        "# 모델 학습 및 샘플링"
      ]
    },
    {
      "cell_type": "markdown",
      "metadata": {
        "id": "HUdjMyJa1Lyt"
      },
      "source": [
        "* 학습을 위해 생성자와 판별자 모델을 초기화합니다.\r\n",
        "* 적절한 하이퍼 파라미터를 설정합니다."
      ]
    },
    {
      "cell_type": "code",
      "metadata": {
        "id": "LokXo4dt1WWa"
      },
      "source": [
        "# 생성자(generator)와 판별자(discriminator) 초기화\r\n",
        "generator = Generator()\r\n",
        "discriminator = Discriminator()\r\n",
        "\r\n",
        "generator.cuda()\r\n",
        "discriminator.cuda()\r\n",
        "\r\n",
        "# 손실 함수(loss function)\r\n",
        "adversarial_loss = nn.BCELoss()\r\n",
        "adversarial_loss.cuda()\r\n",
        "\r\n",
        "# 학습률(learing rate) 설정\r\n",
        "lr = 0.0002\r\n",
        "\r\n",
        "# 생성자와 판별자를 위한 최적화 함수\r\n",
        "optimizer_G = torch.optim.Adam(generator.parameters(), lr=lr, betas=(0.5, 0.999))\r\n",
        "optimizer_D = torch.optim.Adam(discriminator.parameters(), lr=lr, betas=(0.5, 0.999))"
      ],
      "execution_count": null,
      "outputs": []
    },
    {
      "cell_type": "markdown",
      "metadata": {
        "id": "WRx7gbUH13W_"
      },
      "source": [
        "* 모델을 학습하면서 주기적으로 샘플링하여 결과를 확인할 수 있습니다."
      ]
    },
    {
      "cell_type": "code",
      "metadata": {
        "colab": {
          "base_uri": "https://localhost:8080/"
        },
        "id": "K-1xEen32W9p",
        "outputId": "8db7fc38-7572-4d0f-c22c-880bac324f3b"
      },
      "source": [
        "# 학습 순서: G --> D(논문과는 다른 순서)\r\n",
        "\r\n",
        "import time\r\n",
        "\r\n",
        "n_epochs = 200  # 학습의 횟수(epoch) 변경\r\n",
        "sample_interval = 2000  # 몇 번의 배치(batch)마다 결과를 출력할 것인지 설정\r\n",
        "start_time = time.time()\r\n",
        "\r\n",
        "for epoch in range(n_epochs):\r\n",
        "    for i, (imgs, _) in enumerate(dataloader):\r\n",
        "\r\n",
        "        # 진짜(real) 이미지와 가짜(fake) 이미지에 대한 정답 레이블 생성\r\n",
        "        real = torch.cuda.FloatTensor(imgs.size(0), 1).fill_(1.0)   # 진짜(real): 1, real.shape = (B, 1)\r\n",
        "        fake = torch.cuda.FloatTensor(imgs.size(0), 1).fill_(0.0)   # 가짜(fake): 0, fake.shape = (B, 1)\r\n",
        "\r\n",
        "        real_imgs = imgs.cuda()\r\n",
        "\r\n",
        "        \"\"\"생성자(generator)를 학습합니다.\"\"\"\r\n",
        "        optimizer_G.zero_grad()\r\n",
        "\r\n",
        "        # 랜덤 노이즈(noise) 샘플링\r\n",
        "        z = torch.normal(mean=0, std=1, size=(imgs.shape[0], latent_dim)).cuda()    # z.shape = (B, 100)\r\n",
        "\r\n",
        "        # 이미지 생성\r\n",
        "        generated_imgs = generator(z)   # generated_imgs.shape = (B, C, H, W)\r\n",
        "\r\n",
        "        # 생성자(generator)의 손실(loss) 값 계산\r\n",
        "        # 생성자: discriminator(generated_imgs)가 real로 판별할 수 있는 방향으로 학습\r\n",
        "        g_loss = adversarial_loss(discriminator(generated_imgs), real)  # discriminator(generated_imgs).shape = (B, 1)\r\n",
        "\r\n",
        "        # 생성자(generator) 업데이트\r\n",
        "        g_loss.backward()\r\n",
        "        optimizer_G.step()\r\n",
        "\r\n",
        "        \"\"\"판별자(discriminator)를 학습합니다.\"\"\"\r\n",
        "        optimizer_D.zero_grad()\r\n",
        "\r\n",
        "        # 판별자(discriminator)의 손실(loss) 값 계산\r\n",
        "        # 판별자: discriminator(real_imgs)는 real로 판별하고, discriminator(generated_imgs)는 fake로 판별할 수 있는 방향으로 학습\r\n",
        "        real_loss = adversarial_loss(discriminator(real_imgs), real)\r\n",
        "        fake_loss = adversarial_loss(discriminator(generated_imgs.detach()), fake)\r\n",
        "        d_loss = (real_loss + fake_loss) / 2\r\n",
        "\r\n",
        "        # 판별자(discriminator) 업데이트\r\n",
        "        d_loss.backward()\r\n",
        "        optimizer_D.step()\r\n",
        "\r\n",
        "        done = epoch * len(dataloader) + i\r\n",
        "        if done % sample_interval == 0:\r\n",
        "            # 생성된 이미지 중에서 25개만 선택하여 5 x 5 격자 이미지에 출력\r\n",
        "            save_image(generated_imgs.data[:25], f'{done}.png', nrow=5, normalize=True)\r\n",
        "\r\n",
        "    # 하나의 epoch이 끝날 때마다 로그(log) 출력\r\n",
        "    # G와 D는 saddle point로 학습이 이루어짐\r\n",
        "    print(f\"[Epoch {epoch}/{n_epochs}] [D loss: {d_loss.item():.6f}] [G loss: {g_loss.item():.6f}] [Elapsed time: {time.time() - start_time:.2f}s]\")"
      ],
      "execution_count": null,
      "outputs": [
        {
          "output_type": "stream",
          "text": [
            "[Epoch 0/200] [D loss: 0.541140] [G loss: 0.512860] [Elapsed time: 8.51s]\n",
            "[Epoch 1/200] [D loss: 0.406639] [G loss: 1.105773] [Elapsed time: 16.85s]\n",
            "[Epoch 2/200] [D loss: 0.576475] [G loss: 2.596328] [Elapsed time: 25.11s]\n",
            "[Epoch 3/200] [D loss: 0.291485] [G loss: 1.791840] [Elapsed time: 33.47s]\n",
            "[Epoch 4/200] [D loss: 0.385682] [G loss: 1.062364] [Elapsed time: 41.69s]\n",
            "[Epoch 5/200] [D loss: 0.228376] [G loss: 2.111582] [Elapsed time: 49.86s]\n",
            "[Epoch 6/200] [D loss: 0.653164] [G loss: 0.398740] [Elapsed time: 58.07s]\n",
            "[Epoch 7/200] [D loss: 0.392946] [G loss: 0.784977] [Elapsed time: 66.08s]\n",
            "[Epoch 8/200] [D loss: 0.547751] [G loss: 0.563963] [Elapsed time: 74.12s]\n",
            "[Epoch 9/200] [D loss: 0.240741] [G loss: 1.513097] [Elapsed time: 82.39s]\n",
            "[Epoch 10/200] [D loss: 0.239998] [G loss: 1.783767] [Elapsed time: 90.95s]\n",
            "[Epoch 11/200] [D loss: 0.330105] [G loss: 4.388765] [Elapsed time: 99.20s]\n",
            "[Epoch 12/200] [D loss: 0.321583] [G loss: 0.961211] [Elapsed time: 107.50s]\n",
            "[Epoch 13/200] [D loss: 0.233712] [G loss: 1.532613] [Elapsed time: 115.66s]\n",
            "[Epoch 14/200] [D loss: 0.171728] [G loss: 1.970159] [Elapsed time: 123.75s]\n",
            "[Epoch 15/200] [D loss: 0.127301] [G loss: 2.984933] [Elapsed time: 131.91s]\n",
            "[Epoch 16/200] [D loss: 0.253327] [G loss: 2.338560] [Elapsed time: 139.95s]\n",
            "[Epoch 17/200] [D loss: 0.165458] [G loss: 1.908827] [Elapsed time: 148.20s]\n",
            "[Epoch 18/200] [D loss: 0.454889] [G loss: 5.066974] [Elapsed time: 156.29s]\n",
            "[Epoch 19/200] [D loss: 2.124762] [G loss: 12.342285] [Elapsed time: 164.43s]\n",
            "[Epoch 20/200] [D loss: 0.279770] [G loss: 3.517190] [Elapsed time: 172.63s]\n",
            "[Epoch 21/200] [D loss: 0.120195] [G loss: 3.148303] [Elapsed time: 180.96s]\n",
            "[Epoch 22/200] [D loss: 0.182458] [G loss: 2.224355] [Elapsed time: 189.10s]\n",
            "[Epoch 23/200] [D loss: 0.162614] [G loss: 3.544326] [Elapsed time: 197.28s]\n",
            "[Epoch 24/200] [D loss: 0.231124] [G loss: 2.501701] [Elapsed time: 205.41s]\n",
            "[Epoch 25/200] [D loss: 0.156072] [G loss: 2.174458] [Elapsed time: 213.43s]\n",
            "[Epoch 26/200] [D loss: 0.325193] [G loss: 4.887414] [Elapsed time: 221.63s]\n",
            "[Epoch 27/200] [D loss: 0.093656] [G loss: 2.483992] [Elapsed time: 229.89s]\n",
            "[Epoch 28/200] [D loss: 0.173214] [G loss: 3.786353] [Elapsed time: 238.04s]\n",
            "[Epoch 29/200] [D loss: 0.076084] [G loss: 3.146345] [Elapsed time: 246.07s]\n",
            "[Epoch 30/200] [D loss: 0.057965] [G loss: 3.199092] [Elapsed time: 254.22s]\n",
            "[Epoch 31/200] [D loss: 0.185449] [G loss: 3.743930] [Elapsed time: 262.31s]\n",
            "[Epoch 32/200] [D loss: 0.282213] [G loss: 2.790499] [Elapsed time: 270.70s]\n",
            "[Epoch 33/200] [D loss: 0.249812] [G loss: 2.147063] [Elapsed time: 278.98s]\n",
            "[Epoch 34/200] [D loss: 0.153498] [G loss: 2.137675] [Elapsed time: 286.94s]\n",
            "[Epoch 35/200] [D loss: 0.204327] [G loss: 5.550020] [Elapsed time: 295.08s]\n",
            "[Epoch 36/200] [D loss: 0.166343] [G loss: 2.568707] [Elapsed time: 303.28s]\n",
            "[Epoch 37/200] [D loss: 0.120310] [G loss: 2.392970] [Elapsed time: 311.52s]\n",
            "[Epoch 38/200] [D loss: 0.132013] [G loss: 2.154609] [Elapsed time: 319.63s]\n",
            "[Epoch 39/200] [D loss: 0.408197] [G loss: 6.636270] [Elapsed time: 327.82s]\n",
            "[Epoch 40/200] [D loss: 0.103883] [G loss: 3.326926] [Elapsed time: 336.03s]\n",
            "[Epoch 41/200] [D loss: 0.373695] [G loss: 3.772896] [Elapsed time: 344.15s]\n",
            "[Epoch 42/200] [D loss: 0.132786] [G loss: 3.369209] [Elapsed time: 352.38s]\n",
            "[Epoch 43/200] [D loss: 0.208450] [G loss: 2.298515] [Elapsed time: 360.52s]\n",
            "[Epoch 44/200] [D loss: 0.207829] [G loss: 2.339293] [Elapsed time: 368.73s]\n",
            "[Epoch 45/200] [D loss: 0.100714] [G loss: 2.835659] [Elapsed time: 377.02s]\n",
            "[Epoch 46/200] [D loss: 0.157704] [G loss: 2.238257] [Elapsed time: 385.34s]\n",
            "[Epoch 47/200] [D loss: 0.070089] [G loss: 3.278751] [Elapsed time: 393.56s]\n",
            "[Epoch 48/200] [D loss: 0.103523] [G loss: 2.826894] [Elapsed time: 402.10s]\n",
            "[Epoch 49/200] [D loss: 0.338045] [G loss: 5.232443] [Elapsed time: 410.35s]\n",
            "[Epoch 50/200] [D loss: 0.172086] [G loss: 3.255475] [Elapsed time: 418.54s]\n",
            "[Epoch 51/200] [D loss: 0.192759] [G loss: 4.755179] [Elapsed time: 426.76s]\n",
            "[Epoch 52/200] [D loss: 0.288775] [G loss: 1.662952] [Elapsed time: 434.90s]\n",
            "[Epoch 53/200] [D loss: 0.200490] [G loss: 4.681456] [Elapsed time: 443.03s]\n",
            "[Epoch 54/200] [D loss: 0.130967] [G loss: 3.719493] [Elapsed time: 451.30s]\n",
            "[Epoch 55/200] [D loss: 0.120722] [G loss: 2.861856] [Elapsed time: 459.50s]\n",
            "[Epoch 56/200] [D loss: 0.184133] [G loss: 3.097903] [Elapsed time: 467.64s]\n",
            "[Epoch 57/200] [D loss: 0.133608] [G loss: 2.160561] [Elapsed time: 475.72s]\n",
            "[Epoch 58/200] [D loss: 0.369049] [G loss: 3.994284] [Elapsed time: 484.01s]\n",
            "[Epoch 59/200] [D loss: 0.131258] [G loss: 2.996313] [Elapsed time: 492.16s]\n",
            "[Epoch 60/200] [D loss: 0.180227] [G loss: 3.292785] [Elapsed time: 500.31s]\n",
            "[Epoch 61/200] [D loss: 0.170777] [G loss: 5.339755] [Elapsed time: 508.55s]\n",
            "[Epoch 62/200] [D loss: 0.203925] [G loss: 3.555367] [Elapsed time: 516.70s]\n",
            "[Epoch 63/200] [D loss: 0.368086] [G loss: 3.258245] [Elapsed time: 524.81s]\n",
            "[Epoch 64/200] [D loss: 0.176609] [G loss: 2.416397] [Elapsed time: 533.17s]\n",
            "[Epoch 65/200] [D loss: 0.191241] [G loss: 1.924706] [Elapsed time: 541.50s]\n",
            "[Epoch 66/200] [D loss: 0.102504] [G loss: 2.746410] [Elapsed time: 549.74s]\n",
            "[Epoch 67/200] [D loss: 0.199553] [G loss: 2.805462] [Elapsed time: 558.11s]\n",
            "[Epoch 68/200] [D loss: 0.161098] [G loss: 2.433731] [Elapsed time: 566.38s]\n",
            "[Epoch 69/200] [D loss: 0.318125] [G loss: 1.151319] [Elapsed time: 574.65s]\n",
            "[Epoch 70/200] [D loss: 0.187988] [G loss: 1.716784] [Elapsed time: 582.88s]\n",
            "[Epoch 71/200] [D loss: 0.182459] [G loss: 2.114331] [Elapsed time: 590.83s]\n",
            "[Epoch 72/200] [D loss: 0.154860] [G loss: 2.726363] [Elapsed time: 599.06s]\n",
            "[Epoch 73/200] [D loss: 0.154137] [G loss: 2.035133] [Elapsed time: 607.32s]\n",
            "[Epoch 74/200] [D loss: 0.183799] [G loss: 2.878520] [Elapsed time: 615.42s]\n",
            "[Epoch 75/200] [D loss: 0.252462] [G loss: 2.770759] [Elapsed time: 623.60s]\n",
            "[Epoch 76/200] [D loss: 0.269609] [G loss: 1.424136] [Elapsed time: 631.83s]\n",
            "[Epoch 77/200] [D loss: 0.112002] [G loss: 3.711607] [Elapsed time: 640.13s]\n",
            "[Epoch 78/200] [D loss: 0.230952] [G loss: 2.478346] [Elapsed time: 648.38s]\n",
            "[Epoch 79/200] [D loss: 0.124327] [G loss: 2.751094] [Elapsed time: 656.63s]\n",
            "[Epoch 80/200] [D loss: 0.151920] [G loss: 3.482527] [Elapsed time: 664.78s]\n",
            "[Epoch 81/200] [D loss: 0.219581] [G loss: 1.831461] [Elapsed time: 673.00s]\n",
            "[Epoch 82/200] [D loss: 0.306174] [G loss: 3.658517] [Elapsed time: 681.19s]\n",
            "[Epoch 83/200] [D loss: 0.279755] [G loss: 1.339079] [Elapsed time: 689.32s]\n",
            "[Epoch 84/200] [D loss: 0.202477] [G loss: 2.509408] [Elapsed time: 697.51s]\n",
            "[Epoch 85/200] [D loss: 0.240247] [G loss: 3.700890] [Elapsed time: 705.66s]\n",
            "[Epoch 86/200] [D loss: 0.149825] [G loss: 2.070456] [Elapsed time: 714.21s]\n",
            "[Epoch 87/200] [D loss: 0.171739] [G loss: 2.436007] [Elapsed time: 722.53s]\n",
            "[Epoch 88/200] [D loss: 0.139106] [G loss: 3.581219] [Elapsed time: 730.72s]\n",
            "[Epoch 89/200] [D loss: 0.243869] [G loss: 7.762485] [Elapsed time: 738.92s]\n",
            "[Epoch 90/200] [D loss: 0.103619] [G loss: 2.570499] [Elapsed time: 747.29s]\n",
            "[Epoch 91/200] [D loss: 0.369864] [G loss: 1.231210] [Elapsed time: 755.39s]\n",
            "[Epoch 92/200] [D loss: 0.220063] [G loss: 4.156001] [Elapsed time: 763.64s]\n",
            "[Epoch 93/200] [D loss: 0.164059] [G loss: 2.089336] [Elapsed time: 771.92s]\n",
            "[Epoch 94/200] [D loss: 0.192241] [G loss: 4.035411] [Elapsed time: 780.26s]\n",
            "[Epoch 95/200] [D loss: 0.222061] [G loss: 2.293766] [Elapsed time: 788.39s]\n",
            "[Epoch 96/200] [D loss: 0.107307] [G loss: 2.971741] [Elapsed time: 796.53s]\n",
            "[Epoch 97/200] [D loss: 0.174897] [G loss: 3.221215] [Elapsed time: 804.77s]\n",
            "[Epoch 98/200] [D loss: 0.176210] [G loss: 1.780630] [Elapsed time: 812.91s]\n",
            "[Epoch 99/200] [D loss: 0.337760] [G loss: 6.784592] [Elapsed time: 821.04s]\n",
            "[Epoch 100/200] [D loss: 0.152397] [G loss: 2.251307] [Elapsed time: 829.36s]\n",
            "[Epoch 101/200] [D loss: 0.179664] [G loss: 3.402482] [Elapsed time: 837.63s]\n",
            "[Epoch 102/200] [D loss: 0.122066] [G loss: 2.344034] [Elapsed time: 845.84s]\n",
            "[Epoch 103/200] [D loss: 0.187201] [G loss: 2.935059] [Elapsed time: 854.11s]\n",
            "[Epoch 104/200] [D loss: 0.360141] [G loss: 1.263458] [Elapsed time: 862.31s]\n",
            "[Epoch 105/200] [D loss: 0.200782] [G loss: 2.554998] [Elapsed time: 870.64s]\n",
            "[Epoch 106/200] [D loss: 0.190787] [G loss: 5.312817] [Elapsed time: 878.79s]\n",
            "[Epoch 107/200] [D loss: 0.091815] [G loss: 3.614614] [Elapsed time: 887.03s]\n",
            "[Epoch 108/200] [D loss: 0.125611] [G loss: 2.475420] [Elapsed time: 895.13s]\n",
            "[Epoch 109/200] [D loss: 0.186562] [G loss: 2.816346] [Elapsed time: 903.32s]\n",
            "[Epoch 110/200] [D loss: 0.125192] [G loss: 2.200287] [Elapsed time: 911.45s]\n",
            "[Epoch 111/200] [D loss: 0.060483] [G loss: 3.122778] [Elapsed time: 919.69s]\n",
            "[Epoch 112/200] [D loss: 0.124414] [G loss: 2.938222] [Elapsed time: 927.91s]\n",
            "[Epoch 113/200] [D loss: 0.076185] [G loss: 2.915688] [Elapsed time: 936.21s]\n",
            "[Epoch 114/200] [D loss: 0.198973] [G loss: 2.205392] [Elapsed time: 944.38s]\n",
            "[Epoch 115/200] [D loss: 0.262944] [G loss: 4.528749] [Elapsed time: 952.48s]\n",
            "[Epoch 116/200] [D loss: 0.087402] [G loss: 4.118454] [Elapsed time: 960.68s]\n",
            "[Epoch 117/200] [D loss: 0.133193] [G loss: 4.506247] [Elapsed time: 969.00s]\n",
            "[Epoch 118/200] [D loss: 0.144862] [G loss: 2.924249] [Elapsed time: 977.22s]\n",
            "[Epoch 119/200] [D loss: 0.149837] [G loss: 4.589136] [Elapsed time: 985.42s]\n",
            "[Epoch 120/200] [D loss: 0.178763] [G loss: 2.852699] [Elapsed time: 993.70s]\n",
            "[Epoch 121/200] [D loss: 0.071868] [G loss: 4.046629] [Elapsed time: 1001.97s]\n",
            "[Epoch 122/200] [D loss: 0.120583] [G loss: 2.563713] [Elapsed time: 1010.20s]\n",
            "[Epoch 123/200] [D loss: 0.157130] [G loss: 3.957253] [Elapsed time: 1018.36s]\n",
            "[Epoch 124/200] [D loss: 0.128285] [G loss: 3.221338] [Elapsed time: 1027.01s]\n",
            "[Epoch 125/200] [D loss: 0.127259] [G loss: 3.168916] [Elapsed time: 1035.16s]\n",
            "[Epoch 126/200] [D loss: 0.189917] [G loss: 3.963281] [Elapsed time: 1043.27s]\n",
            "[Epoch 127/200] [D loss: 0.535924] [G loss: 6.906780] [Elapsed time: 1051.47s]\n",
            "[Epoch 128/200] [D loss: 0.118102] [G loss: 2.325175] [Elapsed time: 1059.71s]\n",
            "[Epoch 129/200] [D loss: 0.055195] [G loss: 3.511824] [Elapsed time: 1067.77s]\n",
            "[Epoch 130/200] [D loss: 0.073161] [G loss: 3.661388] [Elapsed time: 1076.11s]\n",
            "[Epoch 131/200] [D loss: 0.223405] [G loss: 5.247015] [Elapsed time: 1084.17s]\n",
            "[Epoch 132/200] [D loss: 0.238949] [G loss: 2.320006] [Elapsed time: 1092.45s]\n",
            "[Epoch 133/200] [D loss: 0.135612] [G loss: 1.890491] [Elapsed time: 1100.58s]\n",
            "[Epoch 134/200] [D loss: 0.079827] [G loss: 4.801522] [Elapsed time: 1108.76s]\n",
            "[Epoch 135/200] [D loss: 0.278623] [G loss: 1.800958] [Elapsed time: 1116.95s]\n",
            "[Epoch 136/200] [D loss: 0.202335] [G loss: 3.748103] [Elapsed time: 1125.14s]\n",
            "[Epoch 137/200] [D loss: 0.164449] [G loss: 3.357363] [Elapsed time: 1133.43s]\n",
            "[Epoch 138/200] [D loss: 0.166211] [G loss: 4.616838] [Elapsed time: 1141.59s]\n",
            "[Epoch 139/200] [D loss: 0.176285] [G loss: 2.962582] [Elapsed time: 1149.77s]\n",
            "[Epoch 140/200] [D loss: 0.181628] [G loss: 4.885262] [Elapsed time: 1158.07s]\n",
            "[Epoch 141/200] [D loss: 0.128052] [G loss: 3.647636] [Elapsed time: 1166.15s]\n",
            "[Epoch 142/200] [D loss: 0.183454] [G loss: 2.847611] [Elapsed time: 1174.27s]\n",
            "[Epoch 143/200] [D loss: 0.124466] [G loss: 2.587233] [Elapsed time: 1182.44s]\n",
            "[Epoch 144/200] [D loss: 0.185145] [G loss: 5.037731] [Elapsed time: 1190.62s]\n",
            "[Epoch 145/200] [D loss: 0.191715] [G loss: 9.199031] [Elapsed time: 1198.64s]\n",
            "[Epoch 146/200] [D loss: 0.160880] [G loss: 2.657334] [Elapsed time: 1206.90s]\n",
            "[Epoch 147/200] [D loss: 0.119155] [G loss: 2.950994] [Elapsed time: 1215.10s]\n",
            "[Epoch 148/200] [D loss: 0.168927] [G loss: 2.993318] [Elapsed time: 1223.25s]\n",
            "[Epoch 149/200] [D loss: 0.063259] [G loss: 4.652353] [Elapsed time: 1231.46s]\n",
            "[Epoch 150/200] [D loss: 0.191717] [G loss: 4.367925] [Elapsed time: 1239.78s]\n",
            "[Epoch 151/200] [D loss: 0.071195] [G loss: 4.140738] [Elapsed time: 1247.96s]\n",
            "[Epoch 152/200] [D loss: 0.138580] [G loss: 3.096808] [Elapsed time: 1256.24s]\n",
            "[Epoch 153/200] [D loss: 0.110987] [G loss: 2.697649] [Elapsed time: 1264.38s]\n",
            "[Epoch 154/200] [D loss: 0.125028] [G loss: 3.430685] [Elapsed time: 1272.63s]\n",
            "[Epoch 155/200] [D loss: 0.107027] [G loss: 3.017707] [Elapsed time: 1280.86s]\n",
            "[Epoch 156/200] [D loss: 0.134961] [G loss: 4.976979] [Elapsed time: 1289.14s]\n",
            "[Epoch 157/200] [D loss: 0.087093] [G loss: 2.972164] [Elapsed time: 1297.52s]\n",
            "[Epoch 158/200] [D loss: 0.076802] [G loss: 4.163234] [Elapsed time: 1305.77s]\n",
            "[Epoch 159/200] [D loss: 0.116664] [G loss: 3.216716] [Elapsed time: 1313.97s]\n",
            "[Epoch 160/200] [D loss: 0.122934] [G loss: 2.424858] [Elapsed time: 1322.16s]\n",
            "[Epoch 161/200] [D loss: 0.078720] [G loss: 3.318910] [Elapsed time: 1330.47s]\n",
            "[Epoch 162/200] [D loss: 0.164221] [G loss: 4.180770] [Elapsed time: 1339.16s]\n",
            "[Epoch 163/200] [D loss: 0.280732] [G loss: 4.037847] [Elapsed time: 1347.41s]\n",
            "[Epoch 164/200] [D loss: 0.062615] [G loss: 3.983535] [Elapsed time: 1355.62s]\n",
            "[Epoch 165/200] [D loss: 0.121095] [G loss: 3.932748] [Elapsed time: 1363.70s]\n",
            "[Epoch 166/200] [D loss: 0.115050] [G loss: 4.518708] [Elapsed time: 1371.98s]\n",
            "[Epoch 167/200] [D loss: 0.132984] [G loss: 3.994497] [Elapsed time: 1380.22s]\n",
            "[Epoch 168/200] [D loss: 0.049707] [G loss: 3.256863] [Elapsed time: 1388.43s]\n",
            "[Epoch 169/200] [D loss: 0.141921] [G loss: 2.890682] [Elapsed time: 1396.82s]\n",
            "[Epoch 170/200] [D loss: 0.081773] [G loss: 3.360974] [Elapsed time: 1405.07s]\n",
            "[Epoch 171/200] [D loss: 0.110529] [G loss: 5.865064] [Elapsed time: 1413.29s]\n",
            "[Epoch 172/200] [D loss: 0.226139] [G loss: 2.788883] [Elapsed time: 1421.36s]\n",
            "[Epoch 173/200] [D loss: 0.251569] [G loss: 1.423996] [Elapsed time: 1429.46s]\n",
            "[Epoch 174/200] [D loss: 0.257379] [G loss: 1.774976] [Elapsed time: 1437.70s]\n",
            "[Epoch 175/200] [D loss: 0.167532] [G loss: 3.652542] [Elapsed time: 1446.06s]\n",
            "[Epoch 176/200] [D loss: 0.054171] [G loss: 4.098806] [Elapsed time: 1454.22s]\n",
            "[Epoch 177/200] [D loss: 0.063090] [G loss: 3.672918] [Elapsed time: 1462.36s]\n",
            "[Epoch 178/200] [D loss: 0.095375] [G loss: 3.387669] [Elapsed time: 1470.64s]\n",
            "[Epoch 179/200] [D loss: 0.331973] [G loss: 9.091521] [Elapsed time: 1478.99s]\n",
            "[Epoch 180/200] [D loss: 0.120565] [G loss: 3.168823] [Elapsed time: 1487.11s]\n",
            "[Epoch 181/200] [D loss: 0.212069] [G loss: 5.070494] [Elapsed time: 1495.32s]\n",
            "[Epoch 182/200] [D loss: 0.101213] [G loss: 4.166624] [Elapsed time: 1503.57s]\n",
            "[Epoch 183/200] [D loss: 0.165164] [G loss: 2.639515] [Elapsed time: 1511.95s]\n",
            "[Epoch 184/200] [D loss: 0.130724] [G loss: 3.476391] [Elapsed time: 1520.05s]\n",
            "[Epoch 185/200] [D loss: 0.096583] [G loss: 4.985809] [Elapsed time: 1528.28s]\n",
            "[Epoch 186/200] [D loss: 0.259616] [G loss: 2.601212] [Elapsed time: 1536.52s]\n",
            "[Epoch 187/200] [D loss: 0.121571] [G loss: 2.436921] [Elapsed time: 1544.69s]\n",
            "[Epoch 188/200] [D loss: 0.071133] [G loss: 2.940662] [Elapsed time: 1552.88s]\n",
            "[Epoch 189/200] [D loss: 0.125765] [G loss: 5.951202] [Elapsed time: 1561.14s]\n",
            "[Epoch 190/200] [D loss: 0.119384] [G loss: 2.290125] [Elapsed time: 1569.43s]\n",
            "[Epoch 191/200] [D loss: 0.075841] [G loss: 3.544227] [Elapsed time: 1577.52s]\n",
            "[Epoch 192/200] [D loss: 0.167420] [G loss: 3.023715] [Elapsed time: 1585.71s]\n",
            "[Epoch 193/200] [D loss: 0.124548] [G loss: 5.705041] [Elapsed time: 1593.92s]\n",
            "[Epoch 194/200] [D loss: 0.189540] [G loss: 2.799938] [Elapsed time: 1602.11s]\n",
            "[Epoch 195/200] [D loss: 0.095058] [G loss: 2.571891] [Elapsed time: 1610.31s]\n",
            "[Epoch 196/200] [D loss: 0.080302] [G loss: 3.150419] [Elapsed time: 1618.63s]\n",
            "[Epoch 197/200] [D loss: 0.130313] [G loss: 3.537902] [Elapsed time: 1626.78s]\n",
            "[Epoch 198/200] [D loss: 0.091311] [G loss: 3.981103] [Elapsed time: 1635.20s]\n",
            "[Epoch 199/200] [D loss: 0.048813] [G loss: 3.680506] [Elapsed time: 1643.63s]\n"
          ],
          "name": "stdout"
        }
      ]
    },
    {
      "cell_type": "markdown",
      "metadata": {
        "id": "VNe7-xCG5qDz"
      },
      "source": [
        "* 생성된 이미지 예시를 출력합니다."
      ]
    },
    {
      "cell_type": "code",
      "metadata": {
        "colab": {
          "base_uri": "https://localhost:8080/",
          "height": 169
        },
        "id": "CppcZm_s5wUQ",
        "outputId": "bf134215-284f-4f95-bdd6-be5a787c6b8d"
      },
      "source": [
        "from IPython.display import Image\r\n",
        "\r\n",
        "Image('92000.png')"
      ],
      "execution_count": null,
      "outputs": [
        {
          "output_type": "execute_result",
          "data": {
            "image/png": "[encoded data removed]",
            "text/plain": [
              "<IPython.core.display.Image object>"
            ]
          },
          "metadata": {
            "tags": []
          },
          "execution_count": 12
        }
      ]
    }
  ]
}