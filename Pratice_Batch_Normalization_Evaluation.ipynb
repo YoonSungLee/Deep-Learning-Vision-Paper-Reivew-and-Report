{
  "nbformat": 4,
  "nbformat_minor": 0,
  "metadata": {
    "colab": {
      "name": "Pratice_Batch Normalization Evaluation.ipynb",
      "provenance": [],
      "collapsed_sections": [],
      "machine_shape": "hm",
      "authorship_tag": "ABX9TyMH10c+9NXyiKqHGGdBEvnS"
    },
    "kernelspec": {
      "name": "python3",
      "display_name": "Python 3"
    },
    "accelerator": "GPU",
    "widgets": {
      "application/vnd.jupyter.widget-state+json": {
        "25d4ca63439d45fabe95b3d29e02364b": {
          "model_module": "@jupyter-widgets/controls",
          "model_name": "HBoxModel",
          "state": {
            "_view_name": "HBoxView",
            "_dom_classes": [],
            "_model_name": "HBoxModel",
            "_view_module": "@jupyter-widgets/controls",
            "_model_module_version": "1.5.0",
            "_view_count": null,
            "_view_module_version": "1.5.0",
            "box_style": "",
            "layout": "IPY_MODEL_df859e280c8b47c8bb30168c32001e06",
            "_model_module": "@jupyter-widgets/controls",
            "children": [
              "IPY_MODEL_5cd089b9ed3049ab84ac39e3d7677c59",
              "IPY_MODEL_321516e85ea04265b7f4c48f407404aa"
            ]
          }
        },
        "df859e280c8b47c8bb30168c32001e06": {
          "model_module": "@jupyter-widgets/base",
          "model_name": "LayoutModel",
          "state": {
            "_view_name": "LayoutView",
            "grid_template_rows": null,
            "right": null,
            "justify_content": null,
            "_view_module": "@jupyter-widgets/base",
            "overflow": null,
            "_model_module_version": "1.2.0",
            "_view_count": null,
            "flex_flow": null,
            "width": null,
            "min_width": null,
            "border": null,
            "align_items": null,
            "bottom": null,
            "_model_module": "@jupyter-widgets/base",
            "top": null,
            "grid_column": null,
            "overflow_y": null,
            "overflow_x": null,
            "grid_auto_flow": null,
            "grid_area": null,
            "grid_template_columns": null,
            "flex": null,
            "_model_name": "LayoutModel",
            "justify_items": null,
            "grid_row": null,
            "max_height": null,
            "align_content": null,
            "visibility": null,
            "align_self": null,
            "height": null,
            "min_height": null,
            "padding": null,
            "grid_auto_rows": null,
            "grid_gap": null,
            "max_width": null,
            "order": null,
            "_view_module_version": "1.2.0",
            "grid_template_areas": null,
            "object_position": null,
            "object_fit": null,
            "grid_auto_columns": null,
            "margin": null,
            "display": null,
            "left": null
          }
        },
        "5cd089b9ed3049ab84ac39e3d7677c59": {
          "model_module": "@jupyter-widgets/controls",
          "model_name": "FloatProgressModel",
          "state": {
            "_view_name": "ProgressView",
            "style": "IPY_MODEL_c1cc540b69154edb868488cda5f390f3",
            "_dom_classes": [],
            "description": "",
            "_model_name": "FloatProgressModel",
            "bar_style": "info",
            "max": 1,
            "_view_module": "@jupyter-widgets/controls",
            "_model_module_version": "1.5.0",
            "value": 1,
            "_view_count": null,
            "_view_module_version": "1.5.0",
            "orientation": "horizontal",
            "min": 0,
            "description_tooltip": null,
            "_model_module": "@jupyter-widgets/controls",
            "layout": "IPY_MODEL_45b28274de084c5581787680d6d749c2"
          }
        },
        "321516e85ea04265b7f4c48f407404aa": {
          "model_module": "@jupyter-widgets/controls",
          "model_name": "HTMLModel",
          "state": {
            "_view_name": "HTMLView",
            "style": "IPY_MODEL_fe681a7708f24b8790bf528dbee4a690",
            "_dom_classes": [],
            "description": "",
            "_model_name": "HTMLModel",
            "placeholder": "​",
            "_view_module": "@jupyter-widgets/controls",
            "_model_module_version": "1.5.0",
            "value": " 170500096/? [00:20&lt;00:00, 99467460.76it/s]",
            "_view_count": null,
            "_view_module_version": "1.5.0",
            "description_tooltip": null,
            "_model_module": "@jupyter-widgets/controls",
            "layout": "IPY_MODEL_0da8b391073f49a581bdde5b00ab87f4"
          }
        },
        "c1cc540b69154edb868488cda5f390f3": {
          "model_module": "@jupyter-widgets/controls",
          "model_name": "ProgressStyleModel",
          "state": {
            "_view_name": "StyleView",
            "_model_name": "ProgressStyleModel",
            "description_width": "initial",
            "_view_module": "@jupyter-widgets/base",
            "_model_module_version": "1.5.0",
            "_view_count": null,
            "_view_module_version": "1.2.0",
            "bar_color": null,
            "_model_module": "@jupyter-widgets/controls"
          }
        },
        "45b28274de084c5581787680d6d749c2": {
          "model_module": "@jupyter-widgets/base",
          "model_name": "LayoutModel",
          "state": {
            "_view_name": "LayoutView",
            "grid_template_rows": null,
            "right": null,
            "justify_content": null,
            "_view_module": "@jupyter-widgets/base",
            "overflow": null,
            "_model_module_version": "1.2.0",
            "_view_count": null,
            "flex_flow": null,
            "width": null,
            "min_width": null,
            "border": null,
            "align_items": null,
            "bottom": null,
            "_model_module": "@jupyter-widgets/base",
            "top": null,
            "grid_column": null,
            "overflow_y": null,
            "overflow_x": null,
            "grid_auto_flow": null,
            "grid_area": null,
            "grid_template_columns": null,
            "flex": null,
            "_model_name": "LayoutModel",
            "justify_items": null,
            "grid_row": null,
            "max_height": null,
            "align_content": null,
            "visibility": null,
            "align_self": null,
            "height": null,
            "min_height": null,
            "padding": null,
            "grid_auto_rows": null,
            "grid_gap": null,
            "max_width": null,
            "order": null,
            "_view_module_version": "1.2.0",
            "grid_template_areas": null,
            "object_position": null,
            "object_fit": null,
            "grid_auto_columns": null,
            "margin": null,
            "display": null,
            "left": null
          }
        },
        "fe681a7708f24b8790bf528dbee4a690": {
          "model_module": "@jupyter-widgets/controls",
          "model_name": "DescriptionStyleModel",
          "state": {
            "_view_name": "StyleView",
            "_model_name": "DescriptionStyleModel",
            "description_width": "",
            "_view_module": "@jupyter-widgets/base",
            "_model_module_version": "1.5.0",
            "_view_count": null,
            "_view_module_version": "1.2.0",
            "_model_module": "@jupyter-widgets/controls"
          }
        },
        "0da8b391073f49a581bdde5b00ab87f4": {
          "model_module": "@jupyter-widgets/base",
          "model_name": "LayoutModel",
          "state": {
            "_view_name": "LayoutView",
            "grid_template_rows": null,
            "right": null,
            "justify_content": null,
            "_view_module": "@jupyter-widgets/base",
            "overflow": null,
            "_model_module_version": "1.2.0",
            "_view_count": null,
            "flex_flow": null,
            "width": null,
            "min_width": null,
            "border": null,
            "align_items": null,
            "bottom": null,
            "_model_module": "@jupyter-widgets/base",
            "top": null,
            "grid_column": null,
            "overflow_y": null,
            "overflow_x": null,
            "grid_auto_flow": null,
            "grid_area": null,
            "grid_template_columns": null,
            "flex": null,
            "_model_name": "LayoutModel",
            "justify_items": null,
            "grid_row": null,
            "max_height": null,
            "align_content": null,
            "visibility": null,
            "align_self": null,
            "height": null,
            "min_height": null,
            "padding": null,
            "grid_auto_rows": null,
            "grid_gap": null,
            "max_width": null,
            "order": null,
            "_view_module_version": "1.2.0",
            "grid_template_areas": null,
            "object_position": null,
            "object_fit": null,
            "grid_auto_columns": null,
            "margin": null,
            "display": null,
            "left": null
          }
        }
      }
    }
  },
  "cells": [
    {
      "cell_type": "markdown",
      "metadata": {
        "id": "1JDPCFIPzg-Y"
      },
      "source": [
        "# Batch Normalization Evaluation\r\n",
        "\r\n"
      ]
    },
    {
      "cell_type": "markdown",
      "metadata": {
        "id": "ck8btfIXA5KG"
      },
      "source": [
        "* Reference) ndb796/Deep-Learning-Paper-Review-and-Pratice [[link]](https://github.com/ndb796/Deep-Learning-Paper-Review-and-Practice/blob/master/code_practices/Batch_Normalization_Evaluation_(with_Residual_Connection).ipynb)"
      ]
    },
    {
      "cell_type": "markdown",
      "metadata": {
        "id": "GnQMwlF2Ea4Z"
      },
      "source": [
        "## ResNet18 모델 정의 및 인스턴스 초기화"
      ]
    },
    {
      "cell_type": "markdown",
      "metadata": {
        "id": "cPQd5019BD-v"
      },
      "source": [
        "* 일반적인 ResNet18 모델 아키텍처를 사용합니다.\r\n",
        "* 배치 정규화(batch normalization) 사용 여부를 설정할 수 있습니다.\r\n",
        "* 논문 제목: Batch Normalization: Accelerating Deep Network Training by Reducing Internal Covariate Shift [[link]](https://arxiv.org/abs/1502.03167)"
      ]
    },
    {
      "cell_type": "code",
      "metadata": {
        "id": "G8iQF2zOBdoF"
      },
      "source": [
        "import torch\r\n",
        "import torch.nn as nn\r\n",
        "import torch.nn.functional as F\r\n",
        "import torch.backends.cudnn as cudnn\r\n",
        "import torch.optim as optim\r\n",
        "import os\r\n",
        "import matplotlib.pyplot as plt\r\n",
        "\r\n",
        "\r\n",
        "# ResNet18을 위해 최대한 간단히 수정한 BasicBlock 클래스 정의\r\n",
        "class BasicBlock(nn.Module):\r\n",
        "    def __init__(self, in_planes, planes, with_BN, stride=1):\r\n",
        "        super(BasicBlock, self).__init__()\r\n",
        "        self.with_BN = with_BN\r\n",
        "\r\n",
        "        # 3x3 필터를 사용 (너비와 높이를 줄일 때는 stride 값 조절)\r\n",
        "        self.conv1 = nn.Conv2d(in_planes, planes, kernel_size=3, stride=stride, padding=1, bias=False)\r\n",
        "        if with_BN: # 배치 정규화(batch normalization)를 사용하는 경우\r\n",
        "            self.bn1 = nn.BatchNorm2d(planes) \r\n",
        "\r\n",
        "        # 3x3 필터를 사용 (패딩을 1만큼 주기 때문에 너비와 높이가 동일)\r\n",
        "        self.conv2 = nn.Conv2d(planes, planes, kernel_size=3, stride=1, padding=1, bias=False)\r\n",
        "        if with_BN: # 배치 정규화(batch normalization)를 사용하는 경우\r\n",
        "            self.bn2 = nn.BatchNorm2d(planes)\r\n",
        "\r\n",
        "        self.shortcut = nn.Sequential() # 단순한 identity mapping인 경우\r\n",
        "        if stride != 1: # stride가 1이 아니라면, Identity mapping이 아닌 경우\r\n",
        "            modules = [nn.Conv2d(in_planes, planes, kernel_size=1, stride=stride, bias=False)]\r\n",
        "            if with_BN:\r\n",
        "                modules.append(nn.BatchNorm2d(planes))\r\n",
        "            self.shortcut = nn.Sequential(*modules)\r\n",
        "\r\n",
        "    def forward(self, x):\r\n",
        "        if self.with_BN: # 배치 정규화(batch normalization)를 사용하는 경우\r\n",
        "            out = F.relu(self.bn1(self.conv1(x)))\r\n",
        "            out = self.bn2(self.conv2(out))\r\n",
        "        else:\r\n",
        "            out = F.relu(self.conv1(x))\r\n",
        "            out = self.conv2(out)\r\n",
        "        out += self.shortcut(x) # (핵심) skip connection\r\n",
        "        out = F.relu(out)\r\n",
        "        return out\r\n",
        "\r\n",
        "\r\n",
        "# ResNet 클래스 정의\r\n",
        "class ResNet(nn.Module):\r\n",
        "    def __init__(self, block, num_blocks, with_BN, num_classes=10):\r\n",
        "        super(ResNet, self).__init__()\r\n",
        "        self.in_planes = 64\r\n",
        "        self.with_BN = with_BN\r\n",
        "\r\n",
        "        # 64개의 3x3 필터(filter)를 사용\r\n",
        "        self.conv1 = nn.Conv2d(3, 64, kernel_size=3, stride=1, padding=1, bias=False)\r\n",
        "        if with_BN: # 배치 정규화(batch normalization)를 사용하는 경우\r\n",
        "            self.bn1 = nn.BatchNorm2d(64)\r\n",
        "        self.layer1 = self._make_layer(block, 64, with_BN, num_blocks[0], stride=1)\r\n",
        "        self.layer2 = self._make_layer(block, 128, with_BN, num_blocks[1], stride=2)\r\n",
        "        self.layer3 = self._make_layer(block, 256, with_BN, num_blocks[2], stride=2)\r\n",
        "        self.layer4 = self._make_layer(block, 512, with_BN, num_blocks[3], stride=2)\r\n",
        "        self.linear = nn.Linear(512, num_classes)\r\n",
        "\r\n",
        "    def _make_layer(self, block, planes, with_BN, num_blocks, stride):\r\n",
        "        strides = [stride] + [1] * (num_blocks - 1)\r\n",
        "        layers = []\r\n",
        "        for stride in strides:\r\n",
        "            layers.append(block(self.in_planes, planes, with_BN, stride))\r\n",
        "            self.in_planes = planes # 다음 레이어를 위해 채널 수 변경\r\n",
        "        return nn.Sequential(*layers)\r\n",
        "\r\n",
        "    def forward(self, x):\r\n",
        "        if self.with_BN: # 배치 정규화(batch normalization)를 사용하는 경우\r\n",
        "            out = F.relu(self.bn1(self.conv1(x)))\r\n",
        "        else:\r\n",
        "            out = F.relu(self.conv1(x))\r\n",
        "        out = self.layer1(out)\r\n",
        "        out = self.layer2(out)\r\n",
        "        out = self.layer3(out)\r\n",
        "        out = self.layer4(out)\r\n",
        "        out = F.avg_pool2d(out, 4)\r\n",
        "        out = out.view(out.size(0), -1)\r\n",
        "        out = self.linear(out)\r\n",
        "        return out\r\n",
        "\r\n",
        "\r\n",
        "# ResNet18 함수 정의\r\n",
        "def ResNet18(with_BN):\r\n",
        "    return ResNet(BasicBlock, [2, 2, 2, 2], with_BN)"
      ],
      "execution_count": null,
      "outputs": []
    },
    {
      "cell_type": "markdown",
      "metadata": {
        "id": "t8n_Io8YEUQa"
      },
      "source": [
        "## 데이터셋(Dataset) 다운로드 및 불러오기"
      ]
    },
    {
      "cell_type": "markdown",
      "metadata": {
        "id": "NVl89G1cEe2G"
      },
      "source": [
        "* 실험을 위해 CIFAR-10 데이터셋을 사용합니다."
      ]
    },
    {
      "cell_type": "code",
      "metadata": {
        "colab": {
          "base_uri": "https://localhost:8080/",
          "height": 102,
          "referenced_widgets": [
            "25d4ca63439d45fabe95b3d29e02364b",
            "df859e280c8b47c8bb30168c32001e06",
            "5cd089b9ed3049ab84ac39e3d7677c59",
            "321516e85ea04265b7f4c48f407404aa",
            "c1cc540b69154edb868488cda5f390f3",
            "45b28274de084c5581787680d6d749c2",
            "fe681a7708f24b8790bf528dbee4a690",
            "0da8b391073f49a581bdde5b00ab87f4"
          ]
        },
        "id": "YMoXAHRSEg3Q",
        "outputId": "a124dce7-3258-4174-b290-b778d888d45f"
      },
      "source": [
        "import torchvision\r\n",
        "import torchvision.transforms as transforms\r\n",
        "\r\n",
        "transform_train = transforms.Compose([\r\n",
        "    transforms.RandomCrop(32, padding=4),\r\n",
        "    transforms.RandomHorizontalFlip(),\r\n",
        "    transforms.ToTensor(),\r\n",
        "])\r\n",
        "\r\n",
        "transform_test = transforms.Compose([\r\n",
        "    transforms.ToTensor(),\r\n",
        "])\r\n",
        "\r\n",
        "train_dataset = torchvision.datasets.CIFAR10(root='./data', train=True, download=True, transform=transform_train)\r\n",
        "test_dataset = torchvision.datasets.CIFAR10(root='./data', train=False, download=True, transform=transform_test)\r\n",
        "\r\n",
        "train_loader = torch.utils.data.DataLoader(train_dataset, batch_size=128, shuffle=True, num_workers=4)\r\n",
        "test_loader = torch.utils.data.DataLoader(test_dataset, batch_size=100, shuffle=False, num_workers=4)"
      ],
      "execution_count": null,
      "outputs": [
        {
          "output_type": "stream",
          "text": [
            "Downloading https://www.cs.toronto.edu/~kriz/cifar-10-python.tar.gz to ./data/cifar-10-python.tar.gz\n"
          ],
          "name": "stdout"
        },
        {
          "output_type": "display_data",
          "data": {
            "application/vnd.jupyter.widget-view+json": {
              "model_id": "25d4ca63439d45fabe95b3d29e02364b",
              "version_minor": 0,
              "version_major": 2
            },
            "text/plain": [
              "HBox(children=(FloatProgress(value=1.0, bar_style='info', max=1.0), HTML(value='')))"
            ]
          },
          "metadata": {
            "tags": []
          }
        },
        {
          "output_type": "stream",
          "text": [
            "Extracting ./data/cifar-10-python.tar.gz to ./data\n",
            "Files already downloaded and verified\n"
          ],
          "name": "stdout"
        }
      ]
    },
    {
      "cell_type": "markdown",
      "metadata": {
        "id": "Qzl964IFEyaA"
      },
      "source": [
        "## 학습(Training) 및 테스트(Test) 함수 정의"
      ]
    },
    {
      "cell_type": "code",
      "metadata": {
        "id": "CAp1ow7WE1qw"
      },
      "source": [
        "criterion = nn.CrossEntropyLoss() # 분류(classification) 문제\r\n",
        "\r\n",
        "\r\n",
        "def train(net, optimizer, epoch, step):\r\n",
        "    net.train()\r\n",
        "    correct = 0 # 정답을 맞힌 이미지 개수\r\n",
        "    total = 0 # 전체 이미지 개수\r\n",
        "    steps = [] # 학습 스텝(step)\r\n",
        "    losses = [] # 각 스텝에서의 손실(loss)\r\n",
        "\r\n",
        "    for _, (inputs, targets) in enumerate(train_loader):\r\n",
        "        inputs, targets = inputs.cuda(), targets.cuda()\r\n",
        "\r\n",
        "        optimizer.zero_grad()\r\n",
        "        outputs = net(inputs)\r\n",
        "        loss = criterion(outputs, targets)\r\n",
        "        loss.backward()\r\n",
        "        optimizer.step()\r\n",
        "        \r\n",
        "        _, predicted = outputs.max(1)\r\n",
        "        correct += predicted.eq(targets).sum().item()\r\n",
        "        total += targets.size(0)\r\n",
        "\r\n",
        "        steps.append(step)\r\n",
        "        losses.append(loss.item())\r\n",
        "        step += 1\r\n",
        "\r\n",
        "    return correct / total, steps, losses\r\n",
        "\r\n",
        "\r\n",
        "def test(net, optimizer, epoch):\r\n",
        "    net.eval()\r\n",
        "    correct = 0 # 정답을 맞힌 이미지 개수\r\n",
        "    total = 0 # 전체 이미지 개수\r\n",
        "    loss = 0 # 손실(loss)\r\n",
        "\r\n",
        "    for batch_idx, (inputs, targets) in enumerate(test_loader):\r\n",
        "        inputs, targets = inputs.cuda(), targets.cuda()\r\n",
        "\r\n",
        "        outputs = net(inputs)\r\n",
        "        loss += criterion(outputs, targets).item()\r\n",
        "\r\n",
        "        _, predicted = outputs.max(1)\r\n",
        "        correct += predicted.eq(targets).sum().item()\r\n",
        "        total += targets.size(0)\r\n",
        "\r\n",
        "    return correct / total, loss"
      ],
      "execution_count": null,
      "outputs": []
    },
    {
      "cell_type": "markdown",
      "metadata": {
        "id": "-kvFDdakE5Rx"
      },
      "source": [
        "## Without BN: 학습(Training) 진행"
      ]
    },
    {
      "cell_type": "markdown",
      "metadata": {
        "id": "6XM1U0foFRSj"
      },
      "source": [
        "* 먼저 BatchNorm을 적용하지 않은 모델의 성능을 평가합니다.\r\n",
        "* 기본적으로 Residual Connection은 Loss Landscape Smoothing 효과가 있다는 점을 감안할 필요가 있습니다."
      ]
    },
    {
      "cell_type": "code",
      "metadata": {
        "colab": {
          "base_uri": "https://localhost:8080/"
        },
        "id": "U3aT65tTFXTY",
        "outputId": "5cd7b752-6e88-4f02-bbff-e2b9cb0d394b"
      },
      "source": [
        "print('모델 파라미터를 초기화합니다.')\r\n",
        "net = ResNet18(with_BN=False).cuda()\r\n",
        "learning_rate = 0.01\r\n",
        "optimizer = optim.SGD(net.parameters(), lr=learning_rate, momentum=0.9, weight_decay=0.0002)\r\n",
        "\r\n",
        "total_params = sum(p.numel() for p in net.parameters() if p.requires_grad)\r\n",
        "print('학습 가능한 총 파라미터 수:', total_params)"
      ],
      "execution_count": null,
      "outputs": [
        {
          "output_type": "stream",
          "text": [
            "모델 파라미터를 초기화합니다.\n",
            "학습 가능한 총 파라미터 수: 11164362\n"
          ],
          "name": "stdout"
        }
      ]
    },
    {
      "cell_type": "code",
      "metadata": {
        "colab": {
          "base_uri": "https://localhost:8080/"
        },
        "id": "0hIBegjAFi1Z",
        "outputId": "39ed553b-e5b1-48e0-d516-2aff9d290484"
      },
      "source": [
        "without_BN_train_accuracies = []\r\n",
        "without_BN_steps = []\r\n",
        "without_BN_train_losses = []\r\n",
        "without_BN_test_accuracies = []\r\n",
        "without_BN_test_losses = []\r\n",
        "\r\n",
        "epochs = 20\r\n",
        "\r\n",
        "for epoch in range(0, epochs):\r\n",
        "    print(f'[ Epoch: {epoch}/{epochs} ]')\r\n",
        "    train_accuracy, steps, train_losses = train(net, optimizer, epoch, len(without_BN_steps))\r\n",
        "    without_BN_train_accuracies.append(train_accuracy)\r\n",
        "    without_BN_steps.extend(steps)\r\n",
        "    without_BN_train_losses.extend(train_losses)\r\n",
        "    print(f'Train accuracy = {train_accuracy * 100:.2f} / Train loss = {sum(train_losses)}')\r\n",
        "\r\n",
        "    test_accuracy, test_loss = test(net, optimizer, epoch)\r\n",
        "    without_BN_test_accuracies.append(test_accuracy)\r\n",
        "    without_BN_test_losses.append(test_loss)\r\n",
        "    print(f'Test accuracy = {test_accuracy * 100:.2f} / Test loss = {test_loss}')"
      ],
      "execution_count": null,
      "outputs": [
        {
          "output_type": "stream",
          "text": [
            "[ Epoch: 0/20 ]\n",
            "Train accuracy = 13.82 / Train loss = 877.4451591968536\n",
            "Test accuracy = 19.96 / Test loss = 211.33222877979279\n",
            "[ Epoch: 1/20 ]\n",
            "Train accuracy = 25.62 / Train loss = 781.9139946699142\n",
            "Test accuracy = 25.67 / Test loss = 215.59955668449402\n",
            "[ Epoch: 2/20 ]\n",
            "Train accuracy = 32.33 / Train loss = 716.7041693925858\n",
            "Test accuracy = 38.18 / Test loss = 166.62046945095062\n",
            "[ Epoch: 3/20 ]\n",
            "Train accuracy = 38.65 / Train loss = 654.1194512844086\n",
            "Test accuracy = 42.47 / Test loss = 159.25485122203827\n",
            "[ Epoch: 4/20 ]\n",
            "Train accuracy = 43.10 / Train loss = 608.4395132064819\n",
            "Test accuracy = 46.21 / Test loss = 148.01389837265015\n",
            "[ Epoch: 5/20 ]\n",
            "Train accuracy = 46.13 / Train loss = 576.4460046291351\n",
            "Test accuracy = 49.54 / Test loss = 138.55446875095367\n",
            "[ Epoch: 6/20 ]\n",
            "Train accuracy = 49.18 / Train loss = 544.6085020303726\n",
            "Test accuracy = 53.18 / Test loss = 131.1656301021576\n",
            "[ Epoch: 7/20 ]\n",
            "Train accuracy = 52.93 / Train loss = 511.26505267620087\n",
            "Test accuracy = 55.60 / Test loss = 123.09999513626099\n",
            "[ Epoch: 8/20 ]\n",
            "Train accuracy = 56.10 / Train loss = 482.33885699510574\n",
            "Test accuracy = 59.32 / Test loss = 113.81531482934952\n",
            "[ Epoch: 9/20 ]\n",
            "Train accuracy = 58.94 / Train loss = 453.76331490278244\n",
            "Test accuracy = 59.56 / Test loss = 115.5780639052391\n",
            "[ Epoch: 10/20 ]\n",
            "Train accuracy = 61.94 / Train loss = 421.7646388411522\n",
            "Test accuracy = 64.46 / Test loss = 103.15052783489227\n",
            "[ Epoch: 11/20 ]\n",
            "Train accuracy = 65.02 / Train loss = 391.65226912498474\n",
            "Test accuracy = 63.52 / Test loss = 104.89320665597916\n",
            "[ Epoch: 12/20 ]\n",
            "Train accuracy = 67.58 / Train loss = 364.622963309288\n",
            "Test accuracy = 68.56 / Test loss = 89.35376942157745\n",
            "[ Epoch: 13/20 ]\n",
            "Train accuracy = 69.28 / Train loss = 343.6029552221298\n",
            "Test accuracy = 71.82 / Test loss = 82.78104168176651\n",
            "[ Epoch: 14/20 ]\n",
            "Train accuracy = 71.21 / Train loss = 323.4689738750458\n",
            "Test accuracy = 72.71 / Test loss = 78.93895250558853\n",
            "[ Epoch: 15/20 ]\n",
            "Train accuracy = 72.73 / Train loss = 306.35333973169327\n",
            "Test accuracy = 73.96 / Test loss = 76.99158364534378\n",
            "[ Epoch: 16/20 ]\n",
            "Train accuracy = 74.42 / Train loss = 287.0808802843094\n",
            "Test accuracy = 74.72 / Test loss = 72.96009582281113\n",
            "[ Epoch: 17/20 ]\n",
            "Train accuracy = 75.72 / Train loss = 273.3974577188492\n",
            "Test accuracy = 74.44 / Test loss = 73.95486056804657\n",
            "[ Epoch: 18/20 ]\n",
            "Train accuracy = 77.07 / Train loss = 258.70587024092674\n",
            "Test accuracy = 76.96 / Test loss = 67.75514072179794\n",
            "[ Epoch: 19/20 ]\n",
            "Train accuracy = 78.24 / Train loss = 245.55601778626442\n",
            "Test accuracy = 76.47 / Test loss = 70.77450320124626\n"
          ],
          "name": "stdout"
        }
      ]
    },
    {
      "cell_type": "code",
      "metadata": {
        "colab": {
          "base_uri": "https://localhost:8080/",
          "height": 295
        },
        "id": "kHJNuyReFvCx",
        "outputId": "0c1799d4-8b9f-45e8-bca2-82cc7011fac4"
      },
      "source": [
        "plt.plot(without_BN_steps, without_BN_train_losses)\r\n",
        "plt.title('Train Loss')\r\n",
        "plt.xlabel('Step')\r\n",
        "plt.ylabel('Loss')\r\n",
        "plt.show()"
      ],
      "execution_count": null,
      "outputs": [
        {
          "output_type": "display_data",
          "data": {
            "image/png": "[encoded data removed]",
            "text/plain": [
              "<Figure size 432x288 with 1 Axes>"
            ]
          },
          "metadata": {
            "tags": [],
            "needs_background": "light"
          }
        }
      ]
    },
    {
      "cell_type": "markdown",
      "metadata": {
        "id": "oD3quKgaFxYx"
      },
      "source": [
        "* 테스트 정확도(accuracy) 및 손실(loss) 값을 시각화합니다."
      ]
    },
    {
      "cell_type": "code",
      "metadata": {
        "colab": {
          "base_uri": "https://localhost:8080/",
          "height": 573
        },
        "id": "jFHJRK0nFz7I",
        "outputId": "94e2d0b5-5ad8-49e0-eebd-87cb93ff4ecf"
      },
      "source": [
        "plt.plot([i for i in range(len(without_BN_test_accuracies))], without_BN_test_accuracies)\r\n",
        "plt.title('Test Accuracy')\r\n",
        "plt.xlabel('Epoch')\r\n",
        "plt.ylabel('Accuracy')\r\n",
        "plt.show()\r\n",
        "\r\n",
        "plt.plot([i for i in range(len(without_BN_test_losses))], without_BN_test_losses)\r\n",
        "plt.title('Test Loss')\r\n",
        "plt.xlabel('Epoch')\r\n",
        "plt.ylabel('Loss')\r\n",
        "plt.show()"
      ],
      "execution_count": null,
      "outputs": [
        {
          "output_type": "display_data",
          "data": {
            "image/png": "[encoded data removed]",
            "text/plain": [
              "<Figure size 432x288 with 1 Axes>"
            ]
          },
          "metadata": {
            "tags": [],
            "needs_background": "light"
          }
        },
        {
          "output_type": "display_data",
          "data": {
            "image/png": "[encoded data removed]",
            "text/plain": [
              "<Figure size 432x288 with 1 Axes>"
            ]
          },
          "metadata": {
            "tags": [],
            "needs_background": "light"
          }
        }
      ]
    },
    {
      "cell_type": "markdown",
      "metadata": {
        "id": "JcgPzLDXF2TR"
      },
      "source": [
        "## With BN: 학습(Training) 진행"
      ]
    },
    {
      "cell_type": "markdown",
      "metadata": {
        "id": "DjRyOA0YF6UY"
      },
      "source": [
        "* 이어서 BatchNorm을 적용했을 때의 성능을 평가합니다."
      ]
    },
    {
      "cell_type": "code",
      "metadata": {
        "colab": {
          "base_uri": "https://localhost:8080/"
        },
        "id": "-b_6T0MrF77A",
        "outputId": "2b687dae-d066-43fa-d2e0-600a64be2158"
      },
      "source": [
        "print('모델 파라미터를 초기화합니다.')\r\n",
        "net = ResNet18(with_BN=True).cuda()\r\n",
        "learning_rate = 0.01\r\n",
        "optimizer = optim.SGD(net.parameters(), lr=learning_rate, momentum=0.9, weight_decay=0.0002)\r\n",
        "\r\n",
        "total_params = sum(p.numel() for p in net.parameters() if p.requires_grad)\r\n",
        "print('학습 가능한 총 파라미터 수:', total_params)"
      ],
      "execution_count": null,
      "outputs": [
        {
          "output_type": "stream",
          "text": [
            "모델 파라미터를 초기화합니다.\n",
            "학습 가능한 총 파라미터 수: 11173962\n"
          ],
          "name": "stdout"
        }
      ]
    },
    {
      "cell_type": "code",
      "metadata": {
        "colab": {
          "base_uri": "https://localhost:8080/"
        },
        "id": "0XYAkjTNF9hp",
        "outputId": "43eea331-1501-40d0-c5f5-2221aaf488b3"
      },
      "source": [
        "with_BN_train_accuracies = []\r\n",
        "with_BN_steps = []\r\n",
        "with_BN_train_losses = []\r\n",
        "with_BN_test_accuracies = []\r\n",
        "with_BN_test_losses = []\r\n",
        "\r\n",
        "epochs = 20\r\n",
        "\r\n",
        "for epoch in range(0, epochs):\r\n",
        "    print(f'[ Epoch: {epoch}/{epochs} ]')\r\n",
        "    train_accuracy, steps, train_losses = train(net, optimizer, epoch, len(with_BN_steps))\r\n",
        "    with_BN_train_accuracies.append(train_accuracy)\r\n",
        "    with_BN_steps.extend(steps)\r\n",
        "    with_BN_train_losses.extend(train_losses)\r\n",
        "    print(f'Train accuracy = {train_accuracy * 100:.2f} / Train loss = {sum(train_losses)}')\r\n",
        "\r\n",
        "    test_accuracy, test_loss = test(net, optimizer, epoch)\r\n",
        "    with_BN_test_accuracies.append(test_accuracy)\r\n",
        "    with_BN_test_losses.append(test_loss)\r\n",
        "    print(f'Test accuracy = {test_accuracy * 100:.2f} / Test loss = {test_loss}')"
      ],
      "execution_count": null,
      "outputs": [
        {
          "output_type": "stream",
          "text": [
            "[ Epoch: 0/20 ]\n",
            "Train accuracy = 46.15 / Train loss = 574.6796599030495\n",
            "Test accuracy = 52.92 / Test loss = 143.56228506565094\n",
            "[ Epoch: 1/20 ]\n",
            "Train accuracy = 66.17 / Train loss = 374.85369062423706\n",
            "Test accuracy = 62.53 / Test loss = 115.81821936368942\n",
            "[ Epoch: 2/20 ]\n",
            "Train accuracy = 74.61 / Train loss = 284.72682443261147\n",
            "Test accuracy = 70.68 / Test loss = 88.61280828714371\n",
            "[ Epoch: 3/20 ]\n",
            "Train accuracy = 78.62 / Train loss = 240.25227046012878\n",
            "Test accuracy = 79.79 / Test loss = 60.41055393218994\n",
            "[ Epoch: 4/20 ]\n",
            "Train accuracy = 81.75 / Train loss = 204.66042411327362\n",
            "Test accuracy = 74.35 / Test loss = 76.69614398479462\n",
            "[ Epoch: 5/20 ]\n",
            "Train accuracy = 83.69 / Train loss = 183.86776423454285\n",
            "Test accuracy = 82.47 / Test loss = 52.931159287691116\n",
            "[ Epoch: 6/20 ]\n",
            "Train accuracy = 85.25 / Train loss = 165.38686895370483\n",
            "Test accuracy = 81.13 / Test loss = 55.13340915739536\n",
            "[ Epoch: 7/20 ]\n",
            "Train accuracy = 86.88 / Train loss = 148.98560489714146\n",
            "Test accuracy = 79.34 / Test loss = 67.47315049171448\n",
            "[ Epoch: 8/20 ]\n",
            "Train accuracy = 87.72 / Train loss = 138.65590071678162\n",
            "Test accuracy = 84.44 / Test loss = 48.29856435954571\n",
            "[ Epoch: 9/20 ]\n",
            "Train accuracy = 88.47 / Train loss = 128.10100555419922\n",
            "Test accuracy = 81.44 / Test loss = 56.2733653485775\n",
            "[ Epoch: 10/20 ]\n",
            "Train accuracy = 89.43 / Train loss = 119.4583489894867\n",
            "Test accuracy = 86.57 / Test loss = 42.11009004712105\n",
            "[ Epoch: 11/20 ]\n",
            "Train accuracy = 90.20 / Train loss = 110.43399550020695\n",
            "Test accuracy = 86.37 / Test loss = 41.11361627280712\n",
            "[ Epoch: 12/20 ]\n",
            "Train accuracy = 90.67 / Train loss = 103.371153652668\n",
            "Test accuracy = 84.97 / Test loss = 47.37695501744747\n",
            "[ Epoch: 13/20 ]\n",
            "Train accuracy = 91.28 / Train loss = 96.52990305423737\n",
            "Test accuracy = 86.94 / Test loss = 42.89380060136318\n",
            "[ Epoch: 14/20 ]\n",
            "Train accuracy = 91.69 / Train loss = 91.99002853780985\n",
            "Test accuracy = 86.93 / Test loss = 43.4932087212801\n",
            "[ Epoch: 15/20 ]\n",
            "Train accuracy = 92.22 / Train loss = 86.22555164247751\n",
            "Test accuracy = 87.95 / Test loss = 38.41889098286629\n",
            "[ Epoch: 16/20 ]\n",
            "Train accuracy = 92.69 / Train loss = 81.35863239318132\n",
            "Test accuracy = 87.75 / Test loss = 40.68403875827789\n",
            "[ Epoch: 17/20 ]\n",
            "Train accuracy = 93.25 / Train loss = 75.71086675673723\n",
            "Test accuracy = 88.74 / Test loss = 38.10889533907175\n",
            "[ Epoch: 18/20 ]\n",
            "Train accuracy = 93.43 / Train loss = 72.67522422969341\n",
            "Test accuracy = 87.27 / Test loss = 42.83234944939613\n",
            "[ Epoch: 19/20 ]\n",
            "Train accuracy = 93.81 / Train loss = 68.71337481215596\n",
            "Test accuracy = 85.06 / Test loss = 54.61635601520538\n"
          ],
          "name": "stdout"
        }
      ]
    },
    {
      "cell_type": "markdown",
      "metadata": {
        "id": "mppAR4pcF-_h"
      },
      "source": [
        "* 학습 과정에서의 스텝(step)에 따른 손실(loss) 값을 시각화합니다."
      ]
    },
    {
      "cell_type": "code",
      "metadata": {
        "colab": {
          "base_uri": "https://localhost:8080/",
          "height": 295
        },
        "id": "zbs02IgOGBHI",
        "outputId": "7812eb1e-f25a-4dd5-c255-853b3012802b"
      },
      "source": [
        "plt.plot(with_BN_steps, with_BN_train_losses)\r\n",
        "plt.title('Train Loss')\r\n",
        "plt.xlabel('Step')\r\n",
        "plt.ylabel('Loss')\r\n",
        "plt.show()"
      ],
      "execution_count": null,
      "outputs": [
        {
          "output_type": "display_data",
          "data": {
            "image/png": "[encoded data removed]",
            "text/plain": [
              "<Figure size 432x288 with 1 Axes>"
            ]
          },
          "metadata": {
            "tags": [],
            "needs_background": "light"
          }
        }
      ]
    },
    {
      "cell_type": "markdown",
      "metadata": {
        "id": "zUe0oo19GCaw"
      },
      "source": [
        "* 테스트 정확도(accuracy) 및 손실(loss) 값을 시각화합니다."
      ]
    },
    {
      "cell_type": "code",
      "metadata": {
        "colab": {
          "base_uri": "https://localhost:8080/",
          "height": 573
        },
        "id": "1yDZjrsDGEdg",
        "outputId": "00157ae4-b575-4c52-ed73-198c8a6a622b"
      },
      "source": [
        "plt.plot([i for i in range(len(with_BN_test_accuracies))], with_BN_test_accuracies)\r\n",
        "plt.title('Test Accuracy')\r\n",
        "plt.xlabel('Epoch')\r\n",
        "plt.ylabel('Accuracy')\r\n",
        "plt.show()\r\n",
        "\r\n",
        "plt.plot([i for i in range(len(with_BN_test_losses))], with_BN_test_losses)\r\n",
        "plt.title('Test Loss')\r\n",
        "plt.xlabel('Epoch')\r\n",
        "plt.ylabel('Loss')\r\n",
        "plt.show()"
      ],
      "execution_count": null,
      "outputs": [
        {
          "output_type": "display_data",
          "data": {
            "image/png": "[encoded data removed]",
            "text/plain": [
              "<Figure size 432x288 with 1 Axes>"
            ]
          },
          "metadata": {
            "tags": [],
            "needs_background": "light"
          }
        },
        {
          "output_type": "display_data",
          "data": {
            "image/png": "[encoded data removed]",
            "text/plain": [
              "<Figure size 432x288 with 1 Axes>"
            ]
          },
          "metadata": {
            "tags": [],
            "needs_background": "light"
          }
        }
      ]
    },
    {
      "cell_type": "markdown",
      "metadata": {
        "id": "OxdTKMbaGF1K"
      },
      "source": [
        "## Without BN과 With BN 비교하기"
      ]
    },
    {
      "cell_type": "markdown",
      "metadata": {
        "id": "OLw-ZK-OGISw"
      },
      "source": [
        "* 배치 정규화(batch normalization)를 이용할 때 손실 값의 변동 폭이 작습니다.\r\n",
        "* 성능이 훨씬 좋아지는 것을 확인할 수 있으며 초반에도 빠른 성능 향상을 보입니다."
      ]
    },
    {
      "cell_type": "code",
      "metadata": {
        "colab": {
          "base_uri": "https://localhost:8080/",
          "height": 295
        },
        "id": "JtyIJrzlGMcI",
        "outputId": "08514010-6640-4f8e-9cf9-5ed89df6d93b"
      },
      "source": [
        "plt.plot(without_BN_steps, without_BN_train_losses)\r\n",
        "plt.plot(with_BN_steps, with_BN_train_losses)\r\n",
        "plt.title('Train Loss')\r\n",
        "plt.xlabel('Step')\r\n",
        "plt.ylabel('Loss')\r\n",
        "plt.legend(['w/o BN', 'w/ BN'])\r\n",
        "plt.show()"
      ],
      "execution_count": null,
      "outputs": [
        {
          "output_type": "display_data",
          "data": {
            "image/png": "[encoded data removed]",
            "text/plain": [
              "<Figure size 432x288 with 1 Axes>"
            ]
          },
          "metadata": {
            "tags": [],
            "needs_background": "light"
          }
        }
      ]
    },
    {
      "cell_type": "code",
      "metadata": {
        "colab": {
          "base_uri": "https://localhost:8080/",
          "height": 573
        },
        "id": "VMBSG_STGOWY",
        "outputId": "1af6ff0f-c416-45e4-9626-71347b4644e3"
      },
      "source": [
        "plt.plot([i for i in range(len(without_BN_test_accuracies))], without_BN_test_accuracies)\r\n",
        "plt.plot([i for i in range(len(with_BN_test_accuracies))], with_BN_test_accuracies)\r\n",
        "plt.title('Test Accuracy')\r\n",
        "plt.xlabel('Epoch')\r\n",
        "plt.ylabel('Accuracy')\r\n",
        "plt.legend(['w/o BN', 'w/ BN'])\r\n",
        "plt.show()\r\n",
        "\r\n",
        "plt.plot([i for i in range(len(without_BN_test_losses))], without_BN_test_losses)\r\n",
        "plt.plot([i for i in range(len(with_BN_test_losses))], with_BN_test_losses)\r\n",
        "plt.title('Test Loss')\r\n",
        "plt.xlabel('Epoch')\r\n",
        "plt.ylabel('Loss')\r\n",
        "plt.legend(['w/o BN', 'w/ BN'])\r\n",
        "plt.show()"
      ],
      "execution_count": null,
      "outputs": [
        {
          "output_type": "display_data",
          "data": {
            "image/png": "[encoded data removed]",
            "text/plain": [
              "<Figure size 432x288 with 1 Axes>"
            ]
          },
          "metadata": {
            "tags": [],
            "needs_background": "light"
          }
        },
        {
          "output_type": "display_data",
          "data": {
            "image/png": "[encoded data removed]",
            "text/plain": [
              "<Figure size 432x288 with 1 Axes>"
            ]
          },
          "metadata": {
            "tags": [],
            "needs_background": "light"
          }
        }
      ]
    }
  ]
}